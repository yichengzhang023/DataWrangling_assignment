{
 "cells": [
  {
   "cell_type": "markdown",
   "metadata": {},
   "source": [
    "# FIT5196 Task 3 in Assessment 2\n",
    "#### Student Name: Yicheng Zhang\n",
    "#### Student ID: 27699641\n",
    "\n",
    "Date: 10/05/2018\n",
    "\n",
    "Version: 1.0\n",
    "\n",
    "Environment: Python 3.6.5 and Jupyter notebook\n",
    "\n",
    "Libraries used:\n",
    "* pandas (for dataframe, included in Anaconda Python 3.6) \n",
    "* re (for regular expression, included in Anaconda Python 3.6) \n",
    "* numpy (for numpy array, included in Anaconda Python 3.6)\n",
    "* sys (for system information,included in Anaconda Python 3.6)\n",
    "* matplotlib(for visualization, included in Anaconda Python 3.6)\n",
    "* seaborn(for visualization, inherit from matplotlib)\n",
    "* sklearn(Machine Learning package, need to be installed before using)"
   ]
  },
  {
   "cell_type": "markdown",
   "metadata": {},
   "source": [
    "## 1.  Import libraries "
   ]
  },
  {
   "cell_type": "code",
   "execution_count": 1,
   "metadata": {},
   "outputs": [],
   "source": [
    "import sys\n",
    "import pandas as pd\n",
    "import numpy as np\n",
    "import re\n",
    "import matplotlib.pyplot as plt\n",
    "import seaborn as sns\n",
    "try:\n",
    "    from sklearn.model_selection import train_test_split \n",
    "    from sklearn.ensemble import RandomForestRegressor \n",
    "    from sklearn import metrics\n",
    "except:\n",
    "    import pip\n",
    "    !pip install -U scikit-learn\n",
    "    from sklearn.model_selection import train_test_split \n",
    "    from sklearn.ensemble import RandomForestRegressor \n",
    "    from sklearn import metrics\n",
    "%matplotlib inline"
   ]
  },
  {
   "cell_type": "markdown",
   "metadata": {},
   "source": [
    "## 2. Load Data with Pandas"
   ]
  },
  {
   "cell_type": "markdown",
   "metadata": {},
   "source": [
    "### 2.1. Load CSV File\n",
    "First step of this assessment is loading the csv file's data from the file, In python,one of the optimized method is using the `pandas` build-in method named `read_csv()`\n",
    "We can get the data with `dataframe` type."
   ]
  },
  {
   "cell_type": "code",
   "execution_count": 2,
   "metadata": {
    "scrolled": false
   },
   "outputs": [
    {
     "data": {
      "text/html": [
       "<div>\n",
       "<style scoped>\n",
       "    .dataframe tbody tr th:only-of-type {\n",
       "        vertical-align: middle;\n",
       "    }\n",
       "\n",
       "    .dataframe tbody tr th {\n",
       "        vertical-align: top;\n",
       "    }\n",
       "\n",
       "    .dataframe thead th {\n",
       "        text-align: right;\n",
       "    }\n",
       "</style>\n",
       "<table border=\"1\" class=\"dataframe\">\n",
       "  <thead>\n",
       "    <tr style=\"text-align: right;\">\n",
       "      <th></th>\n",
       "      <th>id</th>\n",
       "      <th>date</th>\n",
       "      <th>price</th>\n",
       "      <th>bedrooms</th>\n",
       "      <th>bathrooms</th>\n",
       "      <th>sqft_living</th>\n",
       "      <th>sqft_lot</th>\n",
       "      <th>floors</th>\n",
       "      <th>waterfront</th>\n",
       "      <th>view</th>\n",
       "      <th>condition</th>\n",
       "      <th>grade</th>\n",
       "      <th>sqft_above</th>\n",
       "      <th>sqft_basement</th>\n",
       "      <th>yr_built</th>\n",
       "      <th>yr_renovated</th>\n",
       "      <th>zipcode</th>\n",
       "      <th>lat</th>\n",
       "      <th>long</th>\n",
       "    </tr>\n",
       "  </thead>\n",
       "  <tbody>\n",
       "    <tr>\n",
       "      <th>0</th>\n",
       "      <td>1999700045</td>\n",
       "      <td>20140502T000000</td>\n",
       "      <td>313000</td>\n",
       "      <td>3</td>\n",
       "      <td>1.50</td>\n",
       "      <td>1340.0</td>\n",
       "      <td>7912</td>\n",
       "      <td>1.5</td>\n",
       "      <td>0</td>\n",
       "      <td>0</td>\n",
       "      <td>3</td>\n",
       "      <td>7</td>\n",
       "      <td>1340.0</td>\n",
       "      <td>0.0</td>\n",
       "      <td>1955</td>\n",
       "      <td>0</td>\n",
       "      <td>98133</td>\n",
       "      <td>47.7658</td>\n",
       "      <td>-122.339</td>\n",
       "    </tr>\n",
       "    <tr>\n",
       "      <th>1</th>\n",
       "      <td>1860600135</td>\n",
       "      <td>20140502T000000</td>\n",
       "      <td>2384000</td>\n",
       "      <td>5</td>\n",
       "      <td>2.50</td>\n",
       "      <td>3650.0</td>\n",
       "      <td>9050</td>\n",
       "      <td>2.0</td>\n",
       "      <td>0</td>\n",
       "      <td>4</td>\n",
       "      <td>5</td>\n",
       "      <td>10</td>\n",
       "      <td>3370.0</td>\n",
       "      <td>280.0</td>\n",
       "      <td>1921</td>\n",
       "      <td>0</td>\n",
       "      <td>98119</td>\n",
       "      <td>47.6345</td>\n",
       "      <td>-122.367</td>\n",
       "    </tr>\n",
       "    <tr>\n",
       "      <th>2</th>\n",
       "      <td>5467900070</td>\n",
       "      <td>20140502T000000</td>\n",
       "      <td>342000</td>\n",
       "      <td>3</td>\n",
       "      <td>2.00</td>\n",
       "      <td>1930.0</td>\n",
       "      <td>11947</td>\n",
       "      <td>1.0</td>\n",
       "      <td>0</td>\n",
       "      <td>0</td>\n",
       "      <td>4</td>\n",
       "      <td>8</td>\n",
       "      <td>1930.0</td>\n",
       "      <td>0.0</td>\n",
       "      <td>1966</td>\n",
       "      <td>0</td>\n",
       "      <td>98042</td>\n",
       "      <td>47.3672</td>\n",
       "      <td>-122.151</td>\n",
       "    </tr>\n",
       "    <tr>\n",
       "      <th>3</th>\n",
       "      <td>4040800810</td>\n",
       "      <td>20140502T000000</td>\n",
       "      <td>420000</td>\n",
       "      <td>3</td>\n",
       "      <td>2.25</td>\n",
       "      <td>2000.0</td>\n",
       "      <td>8030</td>\n",
       "      <td>1.0</td>\n",
       "      <td>0</td>\n",
       "      <td>0</td>\n",
       "      <td>4</td>\n",
       "      <td>8</td>\n",
       "      <td>1000.0</td>\n",
       "      <td>1000.0</td>\n",
       "      <td>1963</td>\n",
       "      <td>0</td>\n",
       "      <td>98008</td>\n",
       "      <td>47.6188</td>\n",
       "      <td>-122.114</td>\n",
       "    </tr>\n",
       "    <tr>\n",
       "      <th>4</th>\n",
       "      <td>7197300105</td>\n",
       "      <td>20140502T000000</td>\n",
       "      <td>550000</td>\n",
       "      <td>4</td>\n",
       "      <td>2.50</td>\n",
       "      <td>1940.0</td>\n",
       "      <td>10500</td>\n",
       "      <td>1.0</td>\n",
       "      <td>0</td>\n",
       "      <td>0</td>\n",
       "      <td>4</td>\n",
       "      <td>7</td>\n",
       "      <td>1140.0</td>\n",
       "      <td>800.0</td>\n",
       "      <td>1976</td>\n",
       "      <td>0</td>\n",
       "      <td>98052</td>\n",
       "      <td>47.6830</td>\n",
       "      <td>-122.114</td>\n",
       "    </tr>\n",
       "  </tbody>\n",
       "</table>\n",
       "</div>"
      ],
      "text/plain": [
       "           id             date    price  bedrooms  bathrooms  sqft_living  \\\n",
       "0  1999700045  20140502T000000   313000         3       1.50       1340.0   \n",
       "1  1860600135  20140502T000000  2384000         5       2.50       3650.0   \n",
       "2  5467900070  20140502T000000   342000         3       2.00       1930.0   \n",
       "3  4040800810  20140502T000000   420000         3       2.25       2000.0   \n",
       "4  7197300105  20140502T000000   550000         4       2.50       1940.0   \n",
       "\n",
       "   sqft_lot  floors  waterfront  view  condition  grade  sqft_above  \\\n",
       "0      7912     1.5           0     0          3      7      1340.0   \n",
       "1      9050     2.0           0     4          5     10      3370.0   \n",
       "2     11947     1.0           0     0          4      8      1930.0   \n",
       "3      8030     1.0           0     0          4      8      1000.0   \n",
       "4     10500     1.0           0     0          4      7      1140.0   \n",
       "\n",
       "   sqft_basement  yr_built  yr_renovated  zipcode      lat     long  \n",
       "0            0.0      1955             0    98133  47.7658 -122.339  \n",
       "1          280.0      1921             0    98119  47.6345 -122.367  \n",
       "2            0.0      1966             0    98042  47.3672 -122.151  \n",
       "3         1000.0      1963             0    98008  47.6188 -122.114  \n",
       "4          800.0      1976             0    98052  47.6830 -122.114  "
      ]
     },
     "execution_count": 2,
     "metadata": {},
     "output_type": "execute_result"
    }
   ],
   "source": [
    "dataset3 = pd.read_csv('dataset3_with_missing.csv')\n",
    "dataset3.head()"
   ]
  },
  {
   "cell_type": "code",
   "execution_count": 3,
   "metadata": {
    "scrolled": true
   },
   "outputs": [
    {
     "name": "stdout",
     "output_type": "stream",
     "text": [
      "(9967, 19)\n"
     ]
    }
   ],
   "source": [
    "print (dataset3.shape)"
   ]
  },
  {
   "cell_type": "markdown",
   "metadata": {},
   "source": [
    "There are total 9967 records in this dataset, and 19 columns. "
   ]
  },
  {
   "cell_type": "markdown",
   "metadata": {},
   "source": [
    "### 2.2. Check Data information\n",
    "Check the information of dataframe"
   ]
  },
  {
   "cell_type": "code",
   "execution_count": 4,
   "metadata": {
    "scrolled": false
   },
   "outputs": [
    {
     "name": "stdout",
     "output_type": "stream",
     "text": [
      "<class 'pandas.core.frame.DataFrame'>\n",
      "RangeIndex: 9967 entries, 0 to 9966\n",
      "Data columns (total 19 columns):\n",
      "id               9967 non-null int64\n",
      "date             9967 non-null object\n",
      "price            9967 non-null int64\n",
      "bedrooms         9967 non-null int64\n",
      "bathrooms        9567 non-null float64\n",
      "sqft_living      9901 non-null float64\n",
      "sqft_lot         9967 non-null int64\n",
      "floors           9967 non-null float64\n",
      "waterfront       9967 non-null int64\n",
      "view             9967 non-null int64\n",
      "condition        9967 non-null int64\n",
      "grade            9967 non-null int64\n",
      "sqft_above       9900 non-null float64\n",
      "sqft_basement    9900 non-null float64\n",
      "yr_built         9967 non-null int64\n",
      "yr_renovated     9967 non-null int64\n",
      "zipcode          9967 non-null int64\n",
      "lat              9967 non-null float64\n",
      "long             9967 non-null float64\n",
      "dtypes: float64(7), int64(11), object(1)\n",
      "memory usage: 1.4+ MB\n"
     ]
    }
   ],
   "source": [
    "dataset3.info()"
   ]
  },
  {
   "cell_type": "markdown",
   "metadata": {},
   "source": [
    "It can be found easily that there are some missing value in the columns `bathrooms`,`sqft_living`,`sqft_above`,and `sqft_basement` "
   ]
  },
  {
   "cell_type": "markdown",
   "metadata": {},
   "source": [
    "Using `dataframe.describe()` to get the statistic information,the `date` column we don't need to consider cause there is no missing value in thsi column."
   ]
  },
  {
   "cell_type": "code",
   "execution_count": 5,
   "metadata": {
    "scrolled": true
   },
   "outputs": [
    {
     "data": {
      "text/html": [
       "<div>\n",
       "<style scoped>\n",
       "    .dataframe tbody tr th:only-of-type {\n",
       "        vertical-align: middle;\n",
       "    }\n",
       "\n",
       "    .dataframe tbody tr th {\n",
       "        vertical-align: top;\n",
       "    }\n",
       "\n",
       "    .dataframe thead th {\n",
       "        text-align: right;\n",
       "    }\n",
       "</style>\n",
       "<table border=\"1\" class=\"dataframe\">\n",
       "  <thead>\n",
       "    <tr style=\"text-align: right;\">\n",
       "      <th></th>\n",
       "      <th>id</th>\n",
       "      <th>price</th>\n",
       "      <th>bedrooms</th>\n",
       "      <th>bathrooms</th>\n",
       "      <th>sqft_living</th>\n",
       "      <th>sqft_lot</th>\n",
       "      <th>floors</th>\n",
       "      <th>waterfront</th>\n",
       "      <th>view</th>\n",
       "      <th>condition</th>\n",
       "      <th>grade</th>\n",
       "      <th>sqft_above</th>\n",
       "      <th>sqft_basement</th>\n",
       "      <th>yr_built</th>\n",
       "      <th>yr_renovated</th>\n",
       "      <th>zipcode</th>\n",
       "      <th>lat</th>\n",
       "      <th>long</th>\n",
       "    </tr>\n",
       "  </thead>\n",
       "  <tbody>\n",
       "    <tr>\n",
       "      <th>count</th>\n",
       "      <td>9.967000e+03</td>\n",
       "      <td>9.967000e+03</td>\n",
       "      <td>9967.000000</td>\n",
       "      <td>9567.00000</td>\n",
       "      <td>9901.000000</td>\n",
       "      <td>9.967000e+03</td>\n",
       "      <td>9967.000000</td>\n",
       "      <td>9967.000000</td>\n",
       "      <td>9967.000000</td>\n",
       "      <td>9967.000000</td>\n",
       "      <td>9967.000000</td>\n",
       "      <td>9900.000000</td>\n",
       "      <td>9900.000000</td>\n",
       "      <td>9967.000000</td>\n",
       "      <td>9967.000000</td>\n",
       "      <td>9967.000000</td>\n",
       "      <td>9967.000000</td>\n",
       "      <td>9967.000000</td>\n",
       "    </tr>\n",
       "    <tr>\n",
       "      <th>mean</th>\n",
       "      <td>4.582619e+09</td>\n",
       "      <td>5.292077e+05</td>\n",
       "      <td>3.360590</td>\n",
       "      <td>2.08430</td>\n",
       "      <td>2075.559135</td>\n",
       "      <td>1.475640e+04</td>\n",
       "      <td>1.480636</td>\n",
       "      <td>0.006522</td>\n",
       "      <td>0.221932</td>\n",
       "      <td>3.447677</td>\n",
       "      <td>7.667804</td>\n",
       "      <td>1788.707071</td>\n",
       "      <td>286.502626</td>\n",
       "      <td>1970.795124</td>\n",
       "      <td>88.537173</td>\n",
       "      <td>98076.508578</td>\n",
       "      <td>47.562232</td>\n",
       "      <td>-122.207991</td>\n",
       "    </tr>\n",
       "    <tr>\n",
       "      <th>std</th>\n",
       "      <td>2.874615e+09</td>\n",
       "      <td>3.292537e+05</td>\n",
       "      <td>0.918844</td>\n",
       "      <td>0.68647</td>\n",
       "      <td>875.594047</td>\n",
       "      <td>3.624471e+04</td>\n",
       "      <td>0.525657</td>\n",
       "      <td>0.080496</td>\n",
       "      <td>0.745250</td>\n",
       "      <td>0.670354</td>\n",
       "      <td>1.157612</td>\n",
       "      <td>803.025500</td>\n",
       "      <td>436.856021</td>\n",
       "      <td>29.212704</td>\n",
       "      <td>411.039302</td>\n",
       "      <td>53.255806</td>\n",
       "      <td>0.137256</td>\n",
       "      <td>0.142927</td>\n",
       "    </tr>\n",
       "    <tr>\n",
       "      <th>min</th>\n",
       "      <td>1.000102e+06</td>\n",
       "      <td>7.800000e+04</td>\n",
       "      <td>0.000000</td>\n",
       "      <td>0.00000</td>\n",
       "      <td>290.000000</td>\n",
       "      <td>6.380000e+02</td>\n",
       "      <td>1.000000</td>\n",
       "      <td>0.000000</td>\n",
       "      <td>0.000000</td>\n",
       "      <td>1.000000</td>\n",
       "      <td>1.000000</td>\n",
       "      <td>290.000000</td>\n",
       "      <td>0.000000</td>\n",
       "      <td>1900.000000</td>\n",
       "      <td>0.000000</td>\n",
       "      <td>98001.000000</td>\n",
       "      <td>47.155900</td>\n",
       "      <td>-122.515000</td>\n",
       "    </tr>\n",
       "    <tr>\n",
       "      <th>25%</th>\n",
       "      <td>2.124069e+09</td>\n",
       "      <td>3.203000e+05</td>\n",
       "      <td>3.000000</td>\n",
       "      <td>1.75000</td>\n",
       "      <td>1440.000000</td>\n",
       "      <td>5.136500e+03</td>\n",
       "      <td>1.000000</td>\n",
       "      <td>0.000000</td>\n",
       "      <td>0.000000</td>\n",
       "      <td>3.000000</td>\n",
       "      <td>7.000000</td>\n",
       "      <td>1200.000000</td>\n",
       "      <td>0.000000</td>\n",
       "      <td>1952.000000</td>\n",
       "      <td>0.000000</td>\n",
       "      <td>98032.000000</td>\n",
       "      <td>47.475700</td>\n",
       "      <td>-122.324000</td>\n",
       "    </tr>\n",
       "    <tr>\n",
       "      <th>50%</th>\n",
       "      <td>3.905040e+09</td>\n",
       "      <td>4.500000e+05</td>\n",
       "      <td>3.000000</td>\n",
       "      <td>2.25000</td>\n",
       "      <td>1950.000000</td>\n",
       "      <td>7.725000e+03</td>\n",
       "      <td>1.000000</td>\n",
       "      <td>0.000000</td>\n",
       "      <td>0.000000</td>\n",
       "      <td>3.000000</td>\n",
       "      <td>7.000000</td>\n",
       "      <td>1570.000000</td>\n",
       "      <td>0.000000</td>\n",
       "      <td>1975.000000</td>\n",
       "      <td>0.000000</td>\n",
       "      <td>98059.000000</td>\n",
       "      <td>47.574500</td>\n",
       "      <td>-122.221000</td>\n",
       "    </tr>\n",
       "    <tr>\n",
       "      <th>75%</th>\n",
       "      <td>7.304301e+09</td>\n",
       "      <td>6.400000e+05</td>\n",
       "      <td>4.000000</td>\n",
       "      <td>2.50000</td>\n",
       "      <td>2550.000000</td>\n",
       "      <td>1.084150e+04</td>\n",
       "      <td>2.000000</td>\n",
       "      <td>0.000000</td>\n",
       "      <td>0.000000</td>\n",
       "      <td>4.000000</td>\n",
       "      <td>8.000000</td>\n",
       "      <td>2240.000000</td>\n",
       "      <td>560.000000</td>\n",
       "      <td>1996.000000</td>\n",
       "      <td>0.000000</td>\n",
       "      <td>98117.000000</td>\n",
       "      <td>47.679200</td>\n",
       "      <td>-122.118000</td>\n",
       "    </tr>\n",
       "    <tr>\n",
       "      <th>max</th>\n",
       "      <td>9.895000e+09</td>\n",
       "      <td>7.062500e+06</td>\n",
       "      <td>33.000000</td>\n",
       "      <td>4.50000</td>\n",
       "      <td>10040.000000</td>\n",
       "      <td>1.074218e+06</td>\n",
       "      <td>3.500000</td>\n",
       "      <td>1.000000</td>\n",
       "      <td>4.000000</td>\n",
       "      <td>5.000000</td>\n",
       "      <td>13.000000</td>\n",
       "      <td>7680.000000</td>\n",
       "      <td>3500.000000</td>\n",
       "      <td>2015.000000</td>\n",
       "      <td>2015.000000</td>\n",
       "      <td>98199.000000</td>\n",
       "      <td>47.777600</td>\n",
       "      <td>-121.315000</td>\n",
       "    </tr>\n",
       "  </tbody>\n",
       "</table>\n",
       "</div>"
      ],
      "text/plain": [
       "                 id         price     bedrooms   bathrooms   sqft_living  \\\n",
       "count  9.967000e+03  9.967000e+03  9967.000000  9567.00000   9901.000000   \n",
       "mean   4.582619e+09  5.292077e+05     3.360590     2.08430   2075.559135   \n",
       "std    2.874615e+09  3.292537e+05     0.918844     0.68647    875.594047   \n",
       "min    1.000102e+06  7.800000e+04     0.000000     0.00000    290.000000   \n",
       "25%    2.124069e+09  3.203000e+05     3.000000     1.75000   1440.000000   \n",
       "50%    3.905040e+09  4.500000e+05     3.000000     2.25000   1950.000000   \n",
       "75%    7.304301e+09  6.400000e+05     4.000000     2.50000   2550.000000   \n",
       "max    9.895000e+09  7.062500e+06    33.000000     4.50000  10040.000000   \n",
       "\n",
       "           sqft_lot       floors   waterfront         view    condition  \\\n",
       "count  9.967000e+03  9967.000000  9967.000000  9967.000000  9967.000000   \n",
       "mean   1.475640e+04     1.480636     0.006522     0.221932     3.447677   \n",
       "std    3.624471e+04     0.525657     0.080496     0.745250     0.670354   \n",
       "min    6.380000e+02     1.000000     0.000000     0.000000     1.000000   \n",
       "25%    5.136500e+03     1.000000     0.000000     0.000000     3.000000   \n",
       "50%    7.725000e+03     1.000000     0.000000     0.000000     3.000000   \n",
       "75%    1.084150e+04     2.000000     0.000000     0.000000     4.000000   \n",
       "max    1.074218e+06     3.500000     1.000000     4.000000     5.000000   \n",
       "\n",
       "             grade   sqft_above  sqft_basement     yr_built  yr_renovated  \\\n",
       "count  9967.000000  9900.000000    9900.000000  9967.000000   9967.000000   \n",
       "mean      7.667804  1788.707071     286.502626  1970.795124     88.537173   \n",
       "std       1.157612   803.025500     436.856021    29.212704    411.039302   \n",
       "min       1.000000   290.000000       0.000000  1900.000000      0.000000   \n",
       "25%       7.000000  1200.000000       0.000000  1952.000000      0.000000   \n",
       "50%       7.000000  1570.000000       0.000000  1975.000000      0.000000   \n",
       "75%       8.000000  2240.000000     560.000000  1996.000000      0.000000   \n",
       "max      13.000000  7680.000000    3500.000000  2015.000000   2015.000000   \n",
       "\n",
       "            zipcode          lat         long  \n",
       "count   9967.000000  9967.000000  9967.000000  \n",
       "mean   98076.508578    47.562232  -122.207991  \n",
       "std       53.255806     0.137256     0.142927  \n",
       "min    98001.000000    47.155900  -122.515000  \n",
       "25%    98032.000000    47.475700  -122.324000  \n",
       "50%    98059.000000    47.574500  -122.221000  \n",
       "75%    98117.000000    47.679200  -122.118000  \n",
       "max    98199.000000    47.777600  -121.315000  "
      ]
     },
     "execution_count": 5,
     "metadata": {},
     "output_type": "execute_result"
    }
   ],
   "source": [
    "dataset3.describe()"
   ]
  },
  {
   "cell_type": "markdown",
   "metadata": {},
   "source": [
    "**Calculated the total number of missing values for each column**\n",
    "\n"
   ]
  },
  {
   "cell_type": "code",
   "execution_count": 6,
   "metadata": {
    "scrolled": true
   },
   "outputs": [
    {
     "data": {
      "text/plain": [
       "id                 0\n",
       "date               0\n",
       "price              0\n",
       "bedrooms           0\n",
       "bathrooms        400\n",
       "sqft_living       66\n",
       "sqft_lot           0\n",
       "floors             0\n",
       "waterfront         0\n",
       "view               0\n",
       "condition          0\n",
       "grade              0\n",
       "sqft_above        67\n",
       "sqft_basement     67\n",
       "yr_built           0\n",
       "yr_renovated       0\n",
       "zipcode            0\n",
       "lat                0\n",
       "long               0\n",
       "dtype: int64"
      ]
     },
     "execution_count": 6,
     "metadata": {},
     "output_type": "execute_result"
    }
   ],
   "source": [
    "dataset3.isnull().sum()"
   ]
  },
  {
   "cell_type": "markdown",
   "metadata": {},
   "source": [
    "there are total 400 missing value in `bathrooms`, 66 missing values in `sqft_living` 67 for `sqft_above`, 67 for `sqft_basement`"
   ]
  },
  {
   "cell_type": "markdown",
   "metadata": {},
   "source": [
    "## 3.Try to fill missing values"
   ]
  },
  {
   "cell_type": "markdown",
   "metadata": {},
   "source": [
    "### 3.1. Considering the relationship between columns"
   ]
  },
  {
   "cell_type": "markdown",
   "metadata": {},
   "source": [
    "> **ATTRIBUTE\tDESCRIPTION**\n",
    "* `Id`\tSale Id\n",
    "* `date`\tDate of the property sold, e.g., 20140502T000000\n",
    "* `price`\tProperty sold price\n",
    "* `bedrooms`\tNumber of bedrooms\n",
    "* `bathrooms`\tNumber of bathrooms, the value of which can be either an integer or a fraction ending with .25, .5, and .75. For example, 0.5 accounts for a room with a toilet but no shower\n",
    "* `sqft_living`\tSquare footage of the property's interior living space\n",
    "* `sqft_lot`\tSquare footage of the land space\n",
    "* `floors`\tNumber of floors\n",
    "* `waterfront`\tWhether the property was overlooking the waterfront or not\n",
    "* `view`\tAn index from 0 to 4 of how good the view of the property was\n",
    "* `condition`\tAn index from 1 to 5 on the condition of the property.\n",
    "* `sqft_above`\tThe square footage of the interior living space that is above ground level\n",
    "* `sqft_basement`\tThe square footage of the interior living space that is below ground level\n",
    "* `yr_built`\tThe year the property was initially built\n",
    "* `yr_renovated`\tThe year of the property's last renovation\n",
    "* `zipcode`\tThe zip code area where the property is, which contains state and zip code, separated by a space. \n",
    "* `lat`\tLatitude of the property\n",
    "* `long`\tLongitude of the property\n",
    ">>**Grade**\n",
    "This column is not mentioned in the description, after observing the data, we can infer the grade will be higher when the overall quality of this property is better.\n"
   ]
  },
  {
   "cell_type": "markdown",
   "metadata": {},
   "source": [
    "**Look at the square footage columns first.**\n",
    "There are 4 types of square footage in total. From the attribute description the `sqft_above` and `sqft_basement` they are interior living space for above/below ground level. `sqft_living` should be the sum of the `sqft_above` and `sqft_basement` "
   ]
  },
  {
   "cell_type": "markdown",
   "metadata": {},
   "source": [
    "Check the null value if there is some overlap records for missing values in `sqft_living` `sqft_above` `sqft_basement`"
   ]
  },
  {
   "cell_type": "code",
   "execution_count": 7,
   "metadata": {},
   "outputs": [
    {
     "data": {
      "text/html": [
       "<div>\n",
       "<style scoped>\n",
       "    .dataframe tbody tr th:only-of-type {\n",
       "        vertical-align: middle;\n",
       "    }\n",
       "\n",
       "    .dataframe tbody tr th {\n",
       "        vertical-align: top;\n",
       "    }\n",
       "\n",
       "    .dataframe thead th {\n",
       "        text-align: right;\n",
       "    }\n",
       "</style>\n",
       "<table border=\"1\" class=\"dataframe\">\n",
       "  <thead>\n",
       "    <tr style=\"text-align: right;\">\n",
       "      <th></th>\n",
       "      <th>id</th>\n",
       "      <th>date</th>\n",
       "      <th>price</th>\n",
       "      <th>bedrooms</th>\n",
       "      <th>bathrooms</th>\n",
       "      <th>sqft_living</th>\n",
       "      <th>sqft_lot</th>\n",
       "      <th>floors</th>\n",
       "      <th>waterfront</th>\n",
       "      <th>view</th>\n",
       "      <th>condition</th>\n",
       "      <th>grade</th>\n",
       "      <th>sqft_above</th>\n",
       "      <th>sqft_basement</th>\n",
       "      <th>yr_built</th>\n",
       "      <th>yr_renovated</th>\n",
       "      <th>zipcode</th>\n",
       "      <th>lat</th>\n",
       "      <th>long</th>\n",
       "    </tr>\n",
       "  </thead>\n",
       "  <tbody>\n",
       "  </tbody>\n",
       "</table>\n",
       "</div>"
      ],
      "text/plain": [
       "Empty DataFrame\n",
       "Columns: [id, date, price, bedrooms, bathrooms, sqft_living, sqft_lot, floors, waterfront, view, condition, grade, sqft_above, sqft_basement, yr_built, yr_renovated, zipcode, lat, long]\n",
       "Index: []"
      ]
     },
     "execution_count": 7,
     "metadata": {},
     "output_type": "execute_result"
    }
   ],
   "source": [
    "dataset3[(dataset3.sqft_basement.isnull())&(dataset3.sqft_living.isnull())] #check overlappings"
   ]
  },
  {
   "cell_type": "code",
   "execution_count": 8,
   "metadata": {},
   "outputs": [
    {
     "data": {
      "text/html": [
       "<div>\n",
       "<style scoped>\n",
       "    .dataframe tbody tr th:only-of-type {\n",
       "        vertical-align: middle;\n",
       "    }\n",
       "\n",
       "    .dataframe tbody tr th {\n",
       "        vertical-align: top;\n",
       "    }\n",
       "\n",
       "    .dataframe thead th {\n",
       "        text-align: right;\n",
       "    }\n",
       "</style>\n",
       "<table border=\"1\" class=\"dataframe\">\n",
       "  <thead>\n",
       "    <tr style=\"text-align: right;\">\n",
       "      <th></th>\n",
       "      <th>id</th>\n",
       "      <th>date</th>\n",
       "      <th>price</th>\n",
       "      <th>bedrooms</th>\n",
       "      <th>bathrooms</th>\n",
       "      <th>sqft_living</th>\n",
       "      <th>sqft_lot</th>\n",
       "      <th>floors</th>\n",
       "      <th>waterfront</th>\n",
       "      <th>view</th>\n",
       "      <th>condition</th>\n",
       "      <th>grade</th>\n",
       "      <th>sqft_above</th>\n",
       "      <th>sqft_basement</th>\n",
       "      <th>yr_built</th>\n",
       "      <th>yr_renovated</th>\n",
       "      <th>zipcode</th>\n",
       "      <th>lat</th>\n",
       "      <th>long</th>\n",
       "    </tr>\n",
       "  </thead>\n",
       "  <tbody>\n",
       "  </tbody>\n",
       "</table>\n",
       "</div>"
      ],
      "text/plain": [
       "Empty DataFrame\n",
       "Columns: [id, date, price, bedrooms, bathrooms, sqft_living, sqft_lot, floors, waterfront, view, condition, grade, sqft_above, sqft_basement, yr_built, yr_renovated, zipcode, lat, long]\n",
       "Index: []"
      ]
     },
     "execution_count": 8,
     "metadata": {},
     "output_type": "execute_result"
    }
   ],
   "source": [
    "dataset3[(dataset3.sqft_above.isnull())&(dataset3.sqft_basement.isnull())]#check overlappings"
   ]
  },
  {
   "cell_type": "code",
   "execution_count": 9,
   "metadata": {},
   "outputs": [
    {
     "data": {
      "text/html": [
       "<div>\n",
       "<style scoped>\n",
       "    .dataframe tbody tr th:only-of-type {\n",
       "        vertical-align: middle;\n",
       "    }\n",
       "\n",
       "    .dataframe tbody tr th {\n",
       "        vertical-align: top;\n",
       "    }\n",
       "\n",
       "    .dataframe thead th {\n",
       "        text-align: right;\n",
       "    }\n",
       "</style>\n",
       "<table border=\"1\" class=\"dataframe\">\n",
       "  <thead>\n",
       "    <tr style=\"text-align: right;\">\n",
       "      <th></th>\n",
       "      <th>id</th>\n",
       "      <th>date</th>\n",
       "      <th>price</th>\n",
       "      <th>bedrooms</th>\n",
       "      <th>bathrooms</th>\n",
       "      <th>sqft_living</th>\n",
       "      <th>sqft_lot</th>\n",
       "      <th>floors</th>\n",
       "      <th>waterfront</th>\n",
       "      <th>view</th>\n",
       "      <th>condition</th>\n",
       "      <th>grade</th>\n",
       "      <th>sqft_above</th>\n",
       "      <th>sqft_basement</th>\n",
       "      <th>yr_built</th>\n",
       "      <th>yr_renovated</th>\n",
       "      <th>zipcode</th>\n",
       "      <th>lat</th>\n",
       "      <th>long</th>\n",
       "    </tr>\n",
       "  </thead>\n",
       "  <tbody>\n",
       "  </tbody>\n",
       "</table>\n",
       "</div>"
      ],
      "text/plain": [
       "Empty DataFrame\n",
       "Columns: [id, date, price, bedrooms, bathrooms, sqft_living, sqft_lot, floors, waterfront, view, condition, grade, sqft_above, sqft_basement, yr_built, yr_renovated, zipcode, lat, long]\n",
       "Index: []"
      ]
     },
     "execution_count": 9,
     "metadata": {},
     "output_type": "execute_result"
    }
   ],
   "source": [
    "dataset3[(dataset3.sqft_living.isnull())&(dataset3.sqft_basement.isnull())]#check overlappings"
   ]
  },
  {
   "cell_type": "code",
   "execution_count": 10,
   "metadata": {},
   "outputs": [
    {
     "data": {
      "text/html": [
       "<div>\n",
       "<style scoped>\n",
       "    .dataframe tbody tr th:only-of-type {\n",
       "        vertical-align: middle;\n",
       "    }\n",
       "\n",
       "    .dataframe tbody tr th {\n",
       "        vertical-align: top;\n",
       "    }\n",
       "\n",
       "    .dataframe thead th {\n",
       "        text-align: right;\n",
       "    }\n",
       "</style>\n",
       "<table border=\"1\" class=\"dataframe\">\n",
       "  <thead>\n",
       "    <tr style=\"text-align: right;\">\n",
       "      <th></th>\n",
       "      <th>id</th>\n",
       "      <th>date</th>\n",
       "      <th>price</th>\n",
       "      <th>bedrooms</th>\n",
       "      <th>bathrooms</th>\n",
       "      <th>sqft_living</th>\n",
       "      <th>sqft_lot</th>\n",
       "      <th>floors</th>\n",
       "      <th>waterfront</th>\n",
       "      <th>view</th>\n",
       "      <th>condition</th>\n",
       "      <th>grade</th>\n",
       "      <th>sqft_above</th>\n",
       "      <th>sqft_basement</th>\n",
       "      <th>yr_built</th>\n",
       "      <th>yr_renovated</th>\n",
       "      <th>zipcode</th>\n",
       "      <th>lat</th>\n",
       "      <th>long</th>\n",
       "    </tr>\n",
       "  </thead>\n",
       "  <tbody>\n",
       "  </tbody>\n",
       "</table>\n",
       "</div>"
      ],
      "text/plain": [
       "Empty DataFrame\n",
       "Columns: [id, date, price, bedrooms, bathrooms, sqft_living, sqft_lot, floors, waterfront, view, condition, grade, sqft_above, sqft_basement, yr_built, yr_renovated, zipcode, lat, long]\n",
       "Index: []"
      ]
     },
     "execution_count": 10,
     "metadata": {},
     "output_type": "execute_result"
    }
   ],
   "source": [
    "dataset3[(dataset3.sqft_living.isnull())&(dataset3.sqft_above.isnull())]#check overlappings"
   ]
  },
  {
   "cell_type": "code",
   "execution_count": 11,
   "metadata": {},
   "outputs": [
    {
     "data": {
      "text/html": [
       "<div>\n",
       "<style scoped>\n",
       "    .dataframe tbody tr th:only-of-type {\n",
       "        vertical-align: middle;\n",
       "    }\n",
       "\n",
       "    .dataframe tbody tr th {\n",
       "        vertical-align: top;\n",
       "    }\n",
       "\n",
       "    .dataframe thead th {\n",
       "        text-align: right;\n",
       "    }\n",
       "</style>\n",
       "<table border=\"1\" class=\"dataframe\">\n",
       "  <thead>\n",
       "    <tr style=\"text-align: right;\">\n",
       "      <th></th>\n",
       "      <th>id</th>\n",
       "      <th>date</th>\n",
       "      <th>price</th>\n",
       "      <th>bedrooms</th>\n",
       "      <th>bathrooms</th>\n",
       "      <th>sqft_living</th>\n",
       "      <th>sqft_lot</th>\n",
       "      <th>floors</th>\n",
       "      <th>waterfront</th>\n",
       "      <th>view</th>\n",
       "      <th>condition</th>\n",
       "      <th>grade</th>\n",
       "      <th>sqft_above</th>\n",
       "      <th>sqft_basement</th>\n",
       "      <th>yr_built</th>\n",
       "      <th>yr_renovated</th>\n",
       "      <th>zipcode</th>\n",
       "      <th>lat</th>\n",
       "      <th>long</th>\n",
       "    </tr>\n",
       "  </thead>\n",
       "  <tbody>\n",
       "  </tbody>\n",
       "</table>\n",
       "</div>"
      ],
      "text/plain": [
       "Empty DataFrame\n",
       "Columns: [id, date, price, bedrooms, bathrooms, sqft_living, sqft_lot, floors, waterfront, view, condition, grade, sqft_above, sqft_basement, yr_built, yr_renovated, zipcode, lat, long]\n",
       "Index: []"
      ]
     },
     "execution_count": 11,
     "metadata": {},
     "output_type": "execute_result"
    }
   ],
   "source": [
    "dataset3[(dataset3.sqft_living.isnull())&(dataset3.sqft_above.isnull())&(dataset3.sqft_basement.isnull())]#check overlappings"
   ]
  },
  {
   "cell_type": "code",
   "execution_count": 12,
   "metadata": {},
   "outputs": [
    {
     "data": {
      "text/html": [
       "<div>\n",
       "<style scoped>\n",
       "    .dataframe tbody tr th:only-of-type {\n",
       "        vertical-align: middle;\n",
       "    }\n",
       "\n",
       "    .dataframe tbody tr th {\n",
       "        vertical-align: top;\n",
       "    }\n",
       "\n",
       "    .dataframe thead th {\n",
       "        text-align: right;\n",
       "    }\n",
       "</style>\n",
       "<table border=\"1\" class=\"dataframe\">\n",
       "  <thead>\n",
       "    <tr style=\"text-align: right;\">\n",
       "      <th></th>\n",
       "      <th>id</th>\n",
       "      <th>date</th>\n",
       "      <th>price</th>\n",
       "      <th>bedrooms</th>\n",
       "      <th>bathrooms</th>\n",
       "      <th>sqft_living</th>\n",
       "      <th>sqft_lot</th>\n",
       "      <th>floors</th>\n",
       "      <th>waterfront</th>\n",
       "      <th>view</th>\n",
       "      <th>condition</th>\n",
       "      <th>grade</th>\n",
       "      <th>sqft_above</th>\n",
       "      <th>sqft_basement</th>\n",
       "      <th>yr_built</th>\n",
       "      <th>yr_renovated</th>\n",
       "      <th>zipcode</th>\n",
       "      <th>lat</th>\n",
       "      <th>long</th>\n",
       "    </tr>\n",
       "  </thead>\n",
       "  <tbody>\n",
       "    <tr>\n",
       "      <th>146</th>\n",
       "      <td>6666830250</td>\n",
       "      <td>20140505T000000</td>\n",
       "      <td>712198</td>\n",
       "      <td>4</td>\n",
       "      <td>2.5</td>\n",
       "      <td>2450.0</td>\n",
       "      <td>4247</td>\n",
       "      <td>2.0</td>\n",
       "      <td>0</td>\n",
       "      <td>0</td>\n",
       "      <td>3</td>\n",
       "      <td>8</td>\n",
       "      <td>NaN</td>\n",
       "      <td>0.0</td>\n",
       "      <td>2013</td>\n",
       "      <td>0</td>\n",
       "      <td>98052</td>\n",
       "      <td>47.7048</td>\n",
       "      <td>-122.113</td>\n",
       "    </tr>\n",
       "    <tr>\n",
       "      <th>250</th>\n",
       "      <td>3888100043</td>\n",
       "      <td>20140507T000000</td>\n",
       "      <td>350000</td>\n",
       "      <td>3</td>\n",
       "      <td>1.0</td>\n",
       "      <td>1010.0</td>\n",
       "      <td>9360</td>\n",
       "      <td>1.0</td>\n",
       "      <td>0</td>\n",
       "      <td>0</td>\n",
       "      <td>3</td>\n",
       "      <td>6</td>\n",
       "      <td>NaN</td>\n",
       "      <td>0.0</td>\n",
       "      <td>1981</td>\n",
       "      <td>0</td>\n",
       "      <td>98033</td>\n",
       "      <td>47.6874</td>\n",
       "      <td>-122.168</td>\n",
       "    </tr>\n",
       "    <tr>\n",
       "      <th>326</th>\n",
       "      <td>8857600820</td>\n",
       "      <td>20140508T000000</td>\n",
       "      <td>260000</td>\n",
       "      <td>4</td>\n",
       "      <td>1.5</td>\n",
       "      <td>2130.0</td>\n",
       "      <td>8800</td>\n",
       "      <td>1.0</td>\n",
       "      <td>0</td>\n",
       "      <td>0</td>\n",
       "      <td>3</td>\n",
       "      <td>7</td>\n",
       "      <td>NaN</td>\n",
       "      <td>1030.0</td>\n",
       "      <td>1962</td>\n",
       "      <td>0</td>\n",
       "      <td>98032</td>\n",
       "      <td>47.3830</td>\n",
       "      <td>-122.288</td>\n",
       "    </tr>\n",
       "    <tr>\n",
       "      <th>338</th>\n",
       "      <td>923049378</td>\n",
       "      <td>20140508T000000</td>\n",
       "      <td>207000</td>\n",
       "      <td>3</td>\n",
       "      <td>1.0</td>\n",
       "      <td>1490.0</td>\n",
       "      <td>8995</td>\n",
       "      <td>1.0</td>\n",
       "      <td>0</td>\n",
       "      <td>0</td>\n",
       "      <td>4</td>\n",
       "      <td>7</td>\n",
       "      <td>NaN</td>\n",
       "      <td>0.0</td>\n",
       "      <td>1954</td>\n",
       "      <td>0</td>\n",
       "      <td>98168</td>\n",
       "      <td>47.4901</td>\n",
       "      <td>-122.303</td>\n",
       "    </tr>\n",
       "    <tr>\n",
       "      <th>393</th>\n",
       "      <td>5341600030</td>\n",
       "      <td>20140509T000000</td>\n",
       "      <td>255000</td>\n",
       "      <td>2</td>\n",
       "      <td>1.0</td>\n",
       "      <td>960.0</td>\n",
       "      <td>28717</td>\n",
       "      <td>1.0</td>\n",
       "      <td>0</td>\n",
       "      <td>0</td>\n",
       "      <td>4</td>\n",
       "      <td>6</td>\n",
       "      <td>NaN</td>\n",
       "      <td>0.0</td>\n",
       "      <td>1984</td>\n",
       "      <td>0</td>\n",
       "      <td>98070</td>\n",
       "      <td>47.3356</td>\n",
       "      <td>-122.502</td>\n",
       "    </tr>\n",
       "  </tbody>\n",
       "</table>\n",
       "</div>"
      ],
      "text/plain": [
       "             id             date   price  bedrooms  bathrooms  sqft_living  \\\n",
       "146  6666830250  20140505T000000  712198         4        2.5       2450.0   \n",
       "250  3888100043  20140507T000000  350000         3        1.0       1010.0   \n",
       "326  8857600820  20140508T000000  260000         4        1.5       2130.0   \n",
       "338   923049378  20140508T000000  207000         3        1.0       1490.0   \n",
       "393  5341600030  20140509T000000  255000         2        1.0        960.0   \n",
       "\n",
       "     sqft_lot  floors  waterfront  view  condition  grade  sqft_above  \\\n",
       "146      4247     2.0           0     0          3      8         NaN   \n",
       "250      9360     1.0           0     0          3      6         NaN   \n",
       "326      8800     1.0           0     0          3      7         NaN   \n",
       "338      8995     1.0           0     0          4      7         NaN   \n",
       "393     28717     1.0           0     0          4      6         NaN   \n",
       "\n",
       "     sqft_basement  yr_built  yr_renovated  zipcode      lat     long  \n",
       "146            0.0      2013             0    98052  47.7048 -122.113  \n",
       "250            0.0      1981             0    98033  47.6874 -122.168  \n",
       "326         1030.0      1962             0    98032  47.3830 -122.288  \n",
       "338            0.0      1954             0    98168  47.4901 -122.303  \n",
       "393            0.0      1984             0    98070  47.3356 -122.502  "
      ]
     },
     "execution_count": 12,
     "metadata": {},
     "output_type": "execute_result"
    }
   ],
   "source": [
    "dataset3[dataset3.sqft_above.isnull()].head()"
   ]
  },
  {
   "cell_type": "code",
   "execution_count": 13,
   "metadata": {},
   "outputs": [
    {
     "data": {
      "text/html": [
       "<div>\n",
       "<style scoped>\n",
       "    .dataframe tbody tr th:only-of-type {\n",
       "        vertical-align: middle;\n",
       "    }\n",
       "\n",
       "    .dataframe tbody tr th {\n",
       "        vertical-align: top;\n",
       "    }\n",
       "\n",
       "    .dataframe thead th {\n",
       "        text-align: right;\n",
       "    }\n",
       "</style>\n",
       "<table border=\"1\" class=\"dataframe\">\n",
       "  <thead>\n",
       "    <tr style=\"text-align: right;\">\n",
       "      <th></th>\n",
       "      <th>id</th>\n",
       "      <th>date</th>\n",
       "      <th>price</th>\n",
       "      <th>bedrooms</th>\n",
       "      <th>bathrooms</th>\n",
       "      <th>sqft_living</th>\n",
       "      <th>sqft_lot</th>\n",
       "      <th>floors</th>\n",
       "      <th>waterfront</th>\n",
       "      <th>view</th>\n",
       "      <th>condition</th>\n",
       "      <th>grade</th>\n",
       "      <th>sqft_above</th>\n",
       "      <th>sqft_basement</th>\n",
       "      <th>yr_built</th>\n",
       "      <th>yr_renovated</th>\n",
       "      <th>zipcode</th>\n",
       "      <th>lat</th>\n",
       "      <th>long</th>\n",
       "    </tr>\n",
       "  </thead>\n",
       "  <tbody>\n",
       "    <tr>\n",
       "      <th>0</th>\n",
       "      <td>1999700045</td>\n",
       "      <td>20140502T000000</td>\n",
       "      <td>313000</td>\n",
       "      <td>3</td>\n",
       "      <td>1.50</td>\n",
       "      <td>1340.0</td>\n",
       "      <td>7912</td>\n",
       "      <td>1.5</td>\n",
       "      <td>0</td>\n",
       "      <td>0</td>\n",
       "      <td>3</td>\n",
       "      <td>7</td>\n",
       "      <td>1340.0</td>\n",
       "      <td>0.0</td>\n",
       "      <td>1955</td>\n",
       "      <td>0</td>\n",
       "      <td>98133</td>\n",
       "      <td>47.7658</td>\n",
       "      <td>-122.339</td>\n",
       "    </tr>\n",
       "    <tr>\n",
       "      <th>1</th>\n",
       "      <td>1860600135</td>\n",
       "      <td>20140502T000000</td>\n",
       "      <td>2384000</td>\n",
       "      <td>5</td>\n",
       "      <td>2.50</td>\n",
       "      <td>3650.0</td>\n",
       "      <td>9050</td>\n",
       "      <td>2.0</td>\n",
       "      <td>0</td>\n",
       "      <td>4</td>\n",
       "      <td>5</td>\n",
       "      <td>10</td>\n",
       "      <td>3370.0</td>\n",
       "      <td>280.0</td>\n",
       "      <td>1921</td>\n",
       "      <td>0</td>\n",
       "      <td>98119</td>\n",
       "      <td>47.6345</td>\n",
       "      <td>-122.367</td>\n",
       "    </tr>\n",
       "    <tr>\n",
       "      <th>2</th>\n",
       "      <td>5467900070</td>\n",
       "      <td>20140502T000000</td>\n",
       "      <td>342000</td>\n",
       "      <td>3</td>\n",
       "      <td>2.00</td>\n",
       "      <td>1930.0</td>\n",
       "      <td>11947</td>\n",
       "      <td>1.0</td>\n",
       "      <td>0</td>\n",
       "      <td>0</td>\n",
       "      <td>4</td>\n",
       "      <td>8</td>\n",
       "      <td>1930.0</td>\n",
       "      <td>0.0</td>\n",
       "      <td>1966</td>\n",
       "      <td>0</td>\n",
       "      <td>98042</td>\n",
       "      <td>47.3672</td>\n",
       "      <td>-122.151</td>\n",
       "    </tr>\n",
       "    <tr>\n",
       "      <th>3</th>\n",
       "      <td>4040800810</td>\n",
       "      <td>20140502T000000</td>\n",
       "      <td>420000</td>\n",
       "      <td>3</td>\n",
       "      <td>2.25</td>\n",
       "      <td>2000.0</td>\n",
       "      <td>8030</td>\n",
       "      <td>1.0</td>\n",
       "      <td>0</td>\n",
       "      <td>0</td>\n",
       "      <td>4</td>\n",
       "      <td>8</td>\n",
       "      <td>1000.0</td>\n",
       "      <td>1000.0</td>\n",
       "      <td>1963</td>\n",
       "      <td>0</td>\n",
       "      <td>98008</td>\n",
       "      <td>47.6188</td>\n",
       "      <td>-122.114</td>\n",
       "    </tr>\n",
       "    <tr>\n",
       "      <th>4</th>\n",
       "      <td>7197300105</td>\n",
       "      <td>20140502T000000</td>\n",
       "      <td>550000</td>\n",
       "      <td>4</td>\n",
       "      <td>2.50</td>\n",
       "      <td>1940.0</td>\n",
       "      <td>10500</td>\n",
       "      <td>1.0</td>\n",
       "      <td>0</td>\n",
       "      <td>0</td>\n",
       "      <td>4</td>\n",
       "      <td>7</td>\n",
       "      <td>1140.0</td>\n",
       "      <td>800.0</td>\n",
       "      <td>1976</td>\n",
       "      <td>0</td>\n",
       "      <td>98052</td>\n",
       "      <td>47.6830</td>\n",
       "      <td>-122.114</td>\n",
       "    </tr>\n",
       "  </tbody>\n",
       "</table>\n",
       "</div>"
      ],
      "text/plain": [
       "           id             date    price  bedrooms  bathrooms  sqft_living  \\\n",
       "0  1999700045  20140502T000000   313000         3       1.50       1340.0   \n",
       "1  1860600135  20140502T000000  2384000         5       2.50       3650.0   \n",
       "2  5467900070  20140502T000000   342000         3       2.00       1930.0   \n",
       "3  4040800810  20140502T000000   420000         3       2.25       2000.0   \n",
       "4  7197300105  20140502T000000   550000         4       2.50       1940.0   \n",
       "\n",
       "   sqft_lot  floors  waterfront  view  condition  grade  sqft_above  \\\n",
       "0      7912     1.5           0     0          3      7      1340.0   \n",
       "1      9050     2.0           0     4          5     10      3370.0   \n",
       "2     11947     1.0           0     0          4      8      1930.0   \n",
       "3      8030     1.0           0     0          4      8      1000.0   \n",
       "4     10500     1.0           0     0          4      7      1140.0   \n",
       "\n",
       "   sqft_basement  yr_built  yr_renovated  zipcode      lat     long  \n",
       "0            0.0      1955             0    98133  47.7658 -122.339  \n",
       "1          280.0      1921             0    98119  47.6345 -122.367  \n",
       "2            0.0      1966             0    98042  47.3672 -122.151  \n",
       "3         1000.0      1963             0    98008  47.6188 -122.114  \n",
       "4          800.0      1976             0    98052  47.6830 -122.114  "
      ]
     },
     "execution_count": 13,
     "metadata": {},
     "output_type": "execute_result"
    }
   ],
   "source": [
    "dataset3.head()"
   ]
  },
  {
   "cell_type": "markdown",
   "metadata": {},
   "source": [
    "Check first few records, verify our assumption before. we can know that sqft_living = sqft_above + sqft_basement"
   ]
  },
  {
   "cell_type": "markdown",
   "metadata": {},
   "source": [
    "**Try to fill the missing value in the sqft_above column**"
   ]
  },
  {
   "cell_type": "code",
   "execution_count": 14,
   "metadata": {},
   "outputs": [],
   "source": [
    "dataset3.loc[dataset3.sqft_above.isnull(),'sqft_above'] = dataset3.loc[dataset3.sqft_above.isnull(),'sqft_living'] - \\\n",
    "dataset3.loc[dataset3.sqft_above.isnull(),'sqft_basement']"
   ]
  },
  {
   "cell_type": "code",
   "execution_count": 15,
   "metadata": {},
   "outputs": [
    {
     "data": {
      "text/html": [
       "<div>\n",
       "<style scoped>\n",
       "    .dataframe tbody tr th:only-of-type {\n",
       "        vertical-align: middle;\n",
       "    }\n",
       "\n",
       "    .dataframe tbody tr th {\n",
       "        vertical-align: top;\n",
       "    }\n",
       "\n",
       "    .dataframe thead th {\n",
       "        text-align: right;\n",
       "    }\n",
       "</style>\n",
       "<table border=\"1\" class=\"dataframe\">\n",
       "  <thead>\n",
       "    <tr style=\"text-align: right;\">\n",
       "      <th></th>\n",
       "      <th>id</th>\n",
       "      <th>date</th>\n",
       "      <th>price</th>\n",
       "      <th>bedrooms</th>\n",
       "      <th>bathrooms</th>\n",
       "      <th>sqft_living</th>\n",
       "      <th>sqft_lot</th>\n",
       "      <th>floors</th>\n",
       "      <th>waterfront</th>\n",
       "      <th>view</th>\n",
       "      <th>condition</th>\n",
       "      <th>grade</th>\n",
       "      <th>sqft_above</th>\n",
       "      <th>sqft_basement</th>\n",
       "      <th>yr_built</th>\n",
       "      <th>yr_renovated</th>\n",
       "      <th>zipcode</th>\n",
       "      <th>lat</th>\n",
       "      <th>long</th>\n",
       "    </tr>\n",
       "  </thead>\n",
       "  <tbody>\n",
       "  </tbody>\n",
       "</table>\n",
       "</div>"
      ],
      "text/plain": [
       "Empty DataFrame\n",
       "Columns: [id, date, price, bedrooms, bathrooms, sqft_living, sqft_lot, floors, waterfront, view, condition, grade, sqft_above, sqft_basement, yr_built, yr_renovated, zipcode, lat, long]\n",
       "Index: []"
      ]
     },
     "execution_count": 15,
     "metadata": {},
     "output_type": "execute_result"
    }
   ],
   "source": [
    "dataset3.loc[dataset3.sqft_above.isnull()]"
   ]
  },
  {
   "cell_type": "markdown",
   "metadata": {},
   "source": [
    "**Try to fill the missing value in the sqft_basement column**"
   ]
  },
  {
   "cell_type": "code",
   "execution_count": 16,
   "metadata": {},
   "outputs": [
    {
     "data": {
      "text/html": [
       "<div>\n",
       "<style scoped>\n",
       "    .dataframe tbody tr th:only-of-type {\n",
       "        vertical-align: middle;\n",
       "    }\n",
       "\n",
       "    .dataframe tbody tr th {\n",
       "        vertical-align: top;\n",
       "    }\n",
       "\n",
       "    .dataframe thead th {\n",
       "        text-align: right;\n",
       "    }\n",
       "</style>\n",
       "<table border=\"1\" class=\"dataframe\">\n",
       "  <thead>\n",
       "    <tr style=\"text-align: right;\">\n",
       "      <th></th>\n",
       "      <th>id</th>\n",
       "      <th>date</th>\n",
       "      <th>price</th>\n",
       "      <th>bedrooms</th>\n",
       "      <th>bathrooms</th>\n",
       "      <th>sqft_living</th>\n",
       "      <th>sqft_lot</th>\n",
       "      <th>floors</th>\n",
       "      <th>waterfront</th>\n",
       "      <th>view</th>\n",
       "      <th>condition</th>\n",
       "      <th>grade</th>\n",
       "      <th>sqft_above</th>\n",
       "      <th>sqft_basement</th>\n",
       "      <th>yr_built</th>\n",
       "      <th>yr_renovated</th>\n",
       "      <th>zipcode</th>\n",
       "      <th>lat</th>\n",
       "      <th>long</th>\n",
       "    </tr>\n",
       "  </thead>\n",
       "  <tbody>\n",
       "    <tr>\n",
       "      <th>434</th>\n",
       "      <td>1219000043</td>\n",
       "      <td>20140509T000000</td>\n",
       "      <td>315000</td>\n",
       "      <td>5</td>\n",
       "      <td>1.75</td>\n",
       "      <td>2320.0</td>\n",
       "      <td>8100</td>\n",
       "      <td>1.0</td>\n",
       "      <td>0</td>\n",
       "      <td>0</td>\n",
       "      <td>4</td>\n",
       "      <td>7</td>\n",
       "      <td>1160.0</td>\n",
       "      <td>NaN</td>\n",
       "      <td>1956</td>\n",
       "      <td>0</td>\n",
       "      <td>98166</td>\n",
       "      <td>47.4631</td>\n",
       "      <td>-122.341</td>\n",
       "    </tr>\n",
       "    <tr>\n",
       "      <th>503</th>\n",
       "      <td>7203101610</td>\n",
       "      <td>20140512T000000</td>\n",
       "      <td>265000</td>\n",
       "      <td>2</td>\n",
       "      <td>1.00</td>\n",
       "      <td>1290.0</td>\n",
       "      <td>2828</td>\n",
       "      <td>2.0</td>\n",
       "      <td>0</td>\n",
       "      <td>0</td>\n",
       "      <td>3</td>\n",
       "      <td>7</td>\n",
       "      <td>1290.0</td>\n",
       "      <td>NaN</td>\n",
       "      <td>2008</td>\n",
       "      <td>0</td>\n",
       "      <td>98053</td>\n",
       "      <td>47.6968</td>\n",
       "      <td>-122.025</td>\n",
       "    </tr>\n",
       "    <tr>\n",
       "      <th>514</th>\n",
       "      <td>3674400035</td>\n",
       "      <td>20140512T000000</td>\n",
       "      <td>156000</td>\n",
       "      <td>3</td>\n",
       "      <td>1.00</td>\n",
       "      <td>970.0</td>\n",
       "      <td>8580</td>\n",
       "      <td>1.0</td>\n",
       "      <td>0</td>\n",
       "      <td>0</td>\n",
       "      <td>3</td>\n",
       "      <td>7</td>\n",
       "      <td>970.0</td>\n",
       "      <td>NaN</td>\n",
       "      <td>1959</td>\n",
       "      <td>0</td>\n",
       "      <td>98003</td>\n",
       "      <td>47.3363</td>\n",
       "      <td>-122.311</td>\n",
       "    </tr>\n",
       "    <tr>\n",
       "      <th>953</th>\n",
       "      <td>8594400350</td>\n",
       "      <td>20140520T000000</td>\n",
       "      <td>315000</td>\n",
       "      <td>3</td>\n",
       "      <td>2.25</td>\n",
       "      <td>1400.0</td>\n",
       "      <td>31626</td>\n",
       "      <td>1.0</td>\n",
       "      <td>0</td>\n",
       "      <td>0</td>\n",
       "      <td>2</td>\n",
       "      <td>7</td>\n",
       "      <td>1140.0</td>\n",
       "      <td>NaN</td>\n",
       "      <td>1987</td>\n",
       "      <td>0</td>\n",
       "      <td>98092</td>\n",
       "      <td>47.3029</td>\n",
       "      <td>-122.069</td>\n",
       "    </tr>\n",
       "    <tr>\n",
       "      <th>956</th>\n",
       "      <td>8819900270</td>\n",
       "      <td>20140520T000000</td>\n",
       "      <td>440000</td>\n",
       "      <td>2</td>\n",
       "      <td>1.75</td>\n",
       "      <td>1300.0</td>\n",
       "      <td>4000</td>\n",
       "      <td>2.0</td>\n",
       "      <td>0</td>\n",
       "      <td>0</td>\n",
       "      <td>3</td>\n",
       "      <td>7</td>\n",
       "      <td>1300.0</td>\n",
       "      <td>NaN</td>\n",
       "      <td>1948</td>\n",
       "      <td>0</td>\n",
       "      <td>98105</td>\n",
       "      <td>47.6687</td>\n",
       "      <td>-122.288</td>\n",
       "    </tr>\n",
       "  </tbody>\n",
       "</table>\n",
       "</div>"
      ],
      "text/plain": [
       "             id             date   price  bedrooms  bathrooms  sqft_living  \\\n",
       "434  1219000043  20140509T000000  315000         5       1.75       2320.0   \n",
       "503  7203101610  20140512T000000  265000         2       1.00       1290.0   \n",
       "514  3674400035  20140512T000000  156000         3       1.00        970.0   \n",
       "953  8594400350  20140520T000000  315000         3       2.25       1400.0   \n",
       "956  8819900270  20140520T000000  440000         2       1.75       1300.0   \n",
       "\n",
       "     sqft_lot  floors  waterfront  view  condition  grade  sqft_above  \\\n",
       "434      8100     1.0           0     0          4      7      1160.0   \n",
       "503      2828     2.0           0     0          3      7      1290.0   \n",
       "514      8580     1.0           0     0          3      7       970.0   \n",
       "953     31626     1.0           0     0          2      7      1140.0   \n",
       "956      4000     2.0           0     0          3      7      1300.0   \n",
       "\n",
       "     sqft_basement  yr_built  yr_renovated  zipcode      lat     long  \n",
       "434            NaN      1956             0    98166  47.4631 -122.341  \n",
       "503            NaN      2008             0    98053  47.6968 -122.025  \n",
       "514            NaN      1959             0    98003  47.3363 -122.311  \n",
       "953            NaN      1987             0    98092  47.3029 -122.069  \n",
       "956            NaN      1948             0    98105  47.6687 -122.288  "
      ]
     },
     "execution_count": 16,
     "metadata": {},
     "output_type": "execute_result"
    }
   ],
   "source": [
    "dataset3.loc[dataset3.sqft_basement.isnull()].head()"
   ]
  },
  {
   "cell_type": "code",
   "execution_count": 17,
   "metadata": {},
   "outputs": [],
   "source": [
    "dataset3.loc[dataset3.sqft_basement.isnull(),'sqft_basement'] = dataset3.loc[dataset3.sqft_basement.isnull(),'sqft_living'] - \\\n",
    "dataset3.loc[dataset3.sqft_basement.isnull(),'sqft_above']"
   ]
  },
  {
   "cell_type": "code",
   "execution_count": 18,
   "metadata": {},
   "outputs": [
    {
     "data": {
      "text/html": [
       "<div>\n",
       "<style scoped>\n",
       "    .dataframe tbody tr th:only-of-type {\n",
       "        vertical-align: middle;\n",
       "    }\n",
       "\n",
       "    .dataframe tbody tr th {\n",
       "        vertical-align: top;\n",
       "    }\n",
       "\n",
       "    .dataframe thead th {\n",
       "        text-align: right;\n",
       "    }\n",
       "</style>\n",
       "<table border=\"1\" class=\"dataframe\">\n",
       "  <thead>\n",
       "    <tr style=\"text-align: right;\">\n",
       "      <th></th>\n",
       "      <th>id</th>\n",
       "      <th>date</th>\n",
       "      <th>price</th>\n",
       "      <th>bedrooms</th>\n",
       "      <th>bathrooms</th>\n",
       "      <th>sqft_living</th>\n",
       "      <th>sqft_lot</th>\n",
       "      <th>floors</th>\n",
       "      <th>waterfront</th>\n",
       "      <th>view</th>\n",
       "      <th>condition</th>\n",
       "      <th>grade</th>\n",
       "      <th>sqft_above</th>\n",
       "      <th>sqft_basement</th>\n",
       "      <th>yr_built</th>\n",
       "      <th>yr_renovated</th>\n",
       "      <th>zipcode</th>\n",
       "      <th>lat</th>\n",
       "      <th>long</th>\n",
       "    </tr>\n",
       "  </thead>\n",
       "  <tbody>\n",
       "    <tr>\n",
       "      <th>189</th>\n",
       "      <td>1223089050</td>\n",
       "      <td>20140506T000000</td>\n",
       "      <td>280000</td>\n",
       "      <td>3</td>\n",
       "      <td>1.75</td>\n",
       "      <td>NaN</td>\n",
       "      <td>11800</td>\n",
       "      <td>1.0</td>\n",
       "      <td>0</td>\n",
       "      <td>0</td>\n",
       "      <td>4</td>\n",
       "      <td>7</td>\n",
       "      <td>1630.0</td>\n",
       "      <td>0.0</td>\n",
       "      <td>1971</td>\n",
       "      <td>0</td>\n",
       "      <td>98045</td>\n",
       "      <td>47.4863</td>\n",
       "      <td>-121.730</td>\n",
       "    </tr>\n",
       "    <tr>\n",
       "      <th>483</th>\n",
       "      <td>2113700235</td>\n",
       "      <td>20140512T000000</td>\n",
       "      <td>360000</td>\n",
       "      <td>4</td>\n",
       "      <td>2.00</td>\n",
       "      <td>NaN</td>\n",
       "      <td>5500</td>\n",
       "      <td>1.0</td>\n",
       "      <td>0</td>\n",
       "      <td>0</td>\n",
       "      <td>5</td>\n",
       "      <td>7</td>\n",
       "      <td>1010.0</td>\n",
       "      <td>720.0</td>\n",
       "      <td>1943</td>\n",
       "      <td>0</td>\n",
       "      <td>98106</td>\n",
       "      <td>47.5304</td>\n",
       "      <td>-122.353</td>\n",
       "    </tr>\n",
       "    <tr>\n",
       "      <th>696</th>\n",
       "      <td>9315100030</td>\n",
       "      <td>20140515T000000</td>\n",
       "      <td>190000</td>\n",
       "      <td>3</td>\n",
       "      <td>1.00</td>\n",
       "      <td>NaN</td>\n",
       "      <td>8520</td>\n",
       "      <td>1.0</td>\n",
       "      <td>0</td>\n",
       "      <td>0</td>\n",
       "      <td>3</td>\n",
       "      <td>7</td>\n",
       "      <td>1090.0</td>\n",
       "      <td>0.0</td>\n",
       "      <td>1967</td>\n",
       "      <td>0</td>\n",
       "      <td>98003</td>\n",
       "      <td>47.3364</td>\n",
       "      <td>-122.307</td>\n",
       "    </tr>\n",
       "    <tr>\n",
       "      <th>701</th>\n",
       "      <td>1015500300</td>\n",
       "      <td>20140515T000000</td>\n",
       "      <td>455000</td>\n",
       "      <td>3</td>\n",
       "      <td>2.50</td>\n",
       "      <td>NaN</td>\n",
       "      <td>7344</td>\n",
       "      <td>1.0</td>\n",
       "      <td>0</td>\n",
       "      <td>0</td>\n",
       "      <td>3</td>\n",
       "      <td>8</td>\n",
       "      <td>1470.0</td>\n",
       "      <td>400.0</td>\n",
       "      <td>1980</td>\n",
       "      <td>0</td>\n",
       "      <td>98034</td>\n",
       "      <td>47.7265</td>\n",
       "      <td>-122.206</td>\n",
       "    </tr>\n",
       "    <tr>\n",
       "      <th>1030</th>\n",
       "      <td>8561200110</td>\n",
       "      <td>20140521T000000</td>\n",
       "      <td>512500</td>\n",
       "      <td>3</td>\n",
       "      <td>2.50</td>\n",
       "      <td>NaN</td>\n",
       "      <td>7604</td>\n",
       "      <td>2.0</td>\n",
       "      <td>0</td>\n",
       "      <td>0</td>\n",
       "      <td>3</td>\n",
       "      <td>8</td>\n",
       "      <td>1900.0</td>\n",
       "      <td>0.0</td>\n",
       "      <td>1990</td>\n",
       "      <td>0</td>\n",
       "      <td>98033</td>\n",
       "      <td>47.7002</td>\n",
       "      <td>-122.188</td>\n",
       "    </tr>\n",
       "  </tbody>\n",
       "</table>\n",
       "</div>"
      ],
      "text/plain": [
       "              id             date   price  bedrooms  bathrooms  sqft_living  \\\n",
       "189   1223089050  20140506T000000  280000         3       1.75          NaN   \n",
       "483   2113700235  20140512T000000  360000         4       2.00          NaN   \n",
       "696   9315100030  20140515T000000  190000         3       1.00          NaN   \n",
       "701   1015500300  20140515T000000  455000         3       2.50          NaN   \n",
       "1030  8561200110  20140521T000000  512500         3       2.50          NaN   \n",
       "\n",
       "      sqft_lot  floors  waterfront  view  condition  grade  sqft_above  \\\n",
       "189      11800     1.0           0     0          4      7      1630.0   \n",
       "483       5500     1.0           0     0          5      7      1010.0   \n",
       "696       8520     1.0           0     0          3      7      1090.0   \n",
       "701       7344     1.0           0     0          3      8      1470.0   \n",
       "1030      7604     2.0           0     0          3      8      1900.0   \n",
       "\n",
       "      sqft_basement  yr_built  yr_renovated  zipcode      lat     long  \n",
       "189             0.0      1971             0    98045  47.4863 -121.730  \n",
       "483           720.0      1943             0    98106  47.5304 -122.353  \n",
       "696             0.0      1967             0    98003  47.3364 -122.307  \n",
       "701           400.0      1980             0    98034  47.7265 -122.206  \n",
       "1030            0.0      1990             0    98033  47.7002 -122.188  "
      ]
     },
     "execution_count": 18,
     "metadata": {},
     "output_type": "execute_result"
    }
   ],
   "source": [
    "dataset3.loc[dataset3.sqft_living.isnull()].head()"
   ]
  },
  {
   "cell_type": "markdown",
   "metadata": {},
   "source": [
    "**Try to fill the missing value in the sqft_living column**"
   ]
  },
  {
   "cell_type": "code",
   "execution_count": 19,
   "metadata": {},
   "outputs": [],
   "source": [
    "dataset3.loc[dataset3.sqft_living.isnull(),'sqft_living'] = dataset3.loc[dataset3.sqft_living.isnull(),'sqft_above'] + \\\n",
    "dataset3.loc[dataset3.sqft_living.isnull(),'sqft_basement']"
   ]
  },
  {
   "cell_type": "markdown",
   "metadata": {},
   "source": [
    "Check the replacing result"
   ]
  },
  {
   "cell_type": "code",
   "execution_count": 20,
   "metadata": {
    "scrolled": true
   },
   "outputs": [
    {
     "data": {
      "text/plain": [
       "id                 0\n",
       "date               0\n",
       "price              0\n",
       "bedrooms           0\n",
       "bathrooms        400\n",
       "sqft_living        0\n",
       "sqft_lot           0\n",
       "floors             0\n",
       "waterfront         0\n",
       "view               0\n",
       "condition          0\n",
       "grade              0\n",
       "sqft_above         0\n",
       "sqft_basement      0\n",
       "yr_built           0\n",
       "yr_renovated       0\n",
       "zipcode            0\n",
       "lat                0\n",
       "long               0\n",
       "dtype: int64"
      ]
     },
     "execution_count": 20,
     "metadata": {},
     "output_type": "execute_result"
    }
   ],
   "source": [
    "dataset3.isnull().sum()"
   ]
  },
  {
   "cell_type": "markdown",
   "metadata": {},
   "source": [
    "### 3.2. Try to use other method to fill missing values in bathroom column"
   ]
  },
  {
   "cell_type": "markdown",
   "metadata": {},
   "source": [
    "There is no obvious relations for bathrooms and other columns, we can use a relationship heatmap to decide which columns have most significant impact on bathroom number.\n",
    "- - -\n",
    "`seaborn` package is one of the visualization tool in python based on the `matplotlib`. the heatmap can show the figure using gradual change colors to represent degree of numbers.\n",
    "\n",
    "`pandas dataframe` or `numpy series` provide a very useful method named `corr()` which can decide what is the connection among columns."
   ]
  },
  {
   "cell_type": "code",
   "execution_count": 21,
   "metadata": {
    "scrolled": false
   },
   "outputs": [
    {
     "data": {
      "text/plain": [
       "<matplotlib.axes._subplots.AxesSubplot at 0x1ae85343668>"
      ]
     },
     "execution_count": 21,
     "metadata": {},
     "output_type": "execute_result"
    },
    {
     "data": {
      "image/png": "[encoded data removed]",
      "text/plain": [
       "<Figure size 1296x1296 with 2 Axes>"
      ]
     },
     "metadata": {},
     "output_type": "display_data"
    }
   ],
   "source": [
    "f,ax = plt.subplots(figsize=(18, 18))\n",
    "columns = ['price','bedrooms','bathrooms','sqft_living','sqft_lot','floors','condition','grade','sqft_above','sqft_basement','yr_built','yr_renovated','zipcode']\n",
    "sns.heatmap(dataset3[columns].corr(), annot=True, linewidths=.5, fmt= '.1f',ax=ax,cmap=\"YlGnBu\") #correlation plot"
   ]
  },
  {
   "cell_type": "markdown",
   "metadata": {},
   "source": [
    "Based on the above figure, we can find that there are few columns can cause critical influence for the bathroom number (Let’s say the correlation factor lager than 0.5). `Price`,`bedrooms` `sqft_living` `floors` `grade` `sqft_above` `yr_built`. According to the common sense, these columns are also reasonable. It is interesting that the `year of built` influence the number of bathrooms. One possible reason for that may be the people want to pursue better quality for their house nowadays. "
   ]
  },
  {
   "cell_type": "markdown",
   "metadata": {},
   "source": [
    "To know how to fill the missing values in the bathroom column, we can use the regerssion to analysis the data. The traditional linear regerssion can have the following equation:\n",
    "$$y_i = \\beta_01+\\beta_1x_i1 + ...\\epsilon_i = \\sum_{i=0}^nx_i^T\\beta + \\epsilon_i$$\n",
    "However, if the features and target is not simple linear relationship, the linear regression may be not very suitable for this.\n",
    "- - -\n",
    "Alternativly, we can use decsion tree regression for this task. Tranditional decision tree is simple, using the condition to switch to different branches. The `sklearn` is one of powerful maching learning package in python, we can choose one of the decision tree regressor to retrieve the value of our target `bathroom`.\n",
    "- - -\n",
    "After trying several methods, in this task we will use the Random forests (or random decision forests), which can get a relative optimized result.\n",
    "> **Random Forest**:Random forests or random decision forests are an ensemble learning method for classification, regression and other tasks, that operate by constructing a multitude of decision trees at training time and outputting the class that is the mode of the classes (classification) or mean prediction (regression) of the individual trees.[Wiki Link](https://en.wikipedia.org/wiki/Random_forest)"
   ]
  },
  {
   "cell_type": "markdown",
   "metadata": {},
   "source": [
    "First, we should drop missing values, and split the trianing set and test set for the computer make computer can using variables to predict our target.We choose `20/80` rules to split the dataset, which means using `80%` of data in dataset for traning the machine, using `20%` for test the results.\n",
    "\n",
    "Then we should choose the features may influence the target, from the above analyzing,we can choose those features."
   ]
  },
  {
   "cell_type": "code",
   "execution_count": 22,
   "metadata": {},
   "outputs": [],
   "source": [
    "dataset3_dropna = dataset3.dropna(axis=0,how='any')\n",
    "features = ['price', 'bedrooms', 'sqft_living','sqft_lot', 'yr_built','floors','grade']\n",
    "X = dataset3_dropna[features]\n",
    "y = dataset3_dropna[['bathrooms']]"
   ]
  },
  {
   "cell_type": "code",
   "execution_count": 23,
   "metadata": {},
   "outputs": [],
   "source": [
    "#split training set and testing set, random selection with same state for muliple running.\n",
    "X_train, X_test, y_train, y_test = train_test_split(\n",
    "    np.array(X),\n",
    "    np.array(y),\n",
    "    test_size=0.2,\n",
    "    random_state=42,\n",
    ")"
   ]
  },
  {
   "cell_type": "markdown",
   "metadata": {},
   "source": [
    "**Create the random forest regressor model for the data set**\n",
    "- - -\n",
    "**Parameters setting**:\n",
    "\n",
    "There are many parameters can be set in the machine learning model, we pick two critical parameters to modify them, and get a better result.\n",
    "\n",
    "`max_depth`: decide when should the decsion tree stop searching\n",
    "\n",
    "`min_samples_leaf`: decide how many branches we should create at least."
   ]
  },
  {
   "cell_type": "code",
   "execution_count": 24,
   "metadata": {},
   "outputs": [
    {
     "data": {
      "text/plain": [
       "RandomForestRegressor(bootstrap=True, criterion='mse', max_depth=7,\n",
       "           max_features='auto', max_leaf_nodes=None,\n",
       "           min_impurity_decrease=0.0, min_impurity_split=None,\n",
       "           min_samples_leaf=7, min_samples_split=2,\n",
       "           min_weight_fraction_leaf=0.0, n_estimators=10, n_jobs=1,\n",
       "           oob_score=False, random_state=None, verbose=0, warm_start=False)"
      ]
     },
     "execution_count": 24,
     "metadata": {},
     "output_type": "execute_result"
    }
   ],
   "source": [
    "rf=RandomForestRegressor(max_depth=7,min_samples_leaf=7)    \n",
    "rf.fit(X_train,y_train.ravel()) # transfer target value to np array."
   ]
  },
  {
   "cell_type": "code",
   "execution_count": 25,
   "metadata": {},
   "outputs": [
    {
     "name": "stdout",
     "output_type": "stream",
     "text": [
      "MSE: 0.10517894461859979\n",
      "RMSE: 0.32431303491935043\n",
      "0.7810694609214645\n"
     ]
    },
    {
     "data": {
      "text/plain": [
       "0.7889590545957449"
      ]
     },
     "execution_count": 25,
     "metadata": {},
     "output_type": "execute_result"
    }
   ],
   "source": [
    "y_pred = rf.predict(X_test)\n",
    "for i in range(len(y_pred)):\n",
    "    y_pred[i] = round(y_pred[i]*4)/4  # unify results to float with step 0.25\n",
    "\n",
    "print (\"MSE:\",metrics.mean_squared_error(y_test, y_pred))\n",
    "print (\"RMSE:\",np.sqrt(metrics.mean_squared_error(y_test, y_pred))) #check data error\n",
    "print(metrics.r2_score(y_test, y_pred)) # predict results compare with actual results\n",
    "rf.score(X_test,y_test)  # model score"
   ]
  },
  {
   "cell_type": "markdown",
   "metadata": {},
   "source": [
    "For the above test, we can find that this algorithm have about `79%` accuracy rate for testing dataset, and `78%` accuracy rate after change the results to the data with quarter step(`0.25`). The result for this method is acceptable and reasonable.\n",
    "- - -\n",
    "the MSE and RMSE show the data also have stable distribution."
   ]
  },
  {
   "cell_type": "code",
   "execution_count": 26,
   "metadata": {},
   "outputs": [],
   "source": [
    "dataset3_withna = dataset3[dataset3.bathrooms.isnull()]"
   ]
  },
  {
   "cell_type": "markdown",
   "metadata": {},
   "source": [
    "**Try to caculate the result and fill the missing value in bathroom column.**"
   ]
  },
  {
   "cell_type": "code",
   "execution_count": 27,
   "metadata": {},
   "outputs": [],
   "source": [
    "predict = rf.predict(dataset3_withna[features])"
   ]
  },
  {
   "cell_type": "code",
   "execution_count": 28,
   "metadata": {
    "scrolled": true
   },
   "outputs": [
    {
     "data": {
      "text/plain": [
       "array([2.28622092, 2.20659151, 1.00194597, 2.56145854, 2.89902423,\n",
       "       2.37098363, 1.38270568, 1.47530142, 1.65563538, 1.86727249])"
      ]
     },
     "execution_count": 28,
     "metadata": {},
     "output_type": "execute_result"
    }
   ],
   "source": [
    "predict[0:10]"
   ]
  },
  {
   "cell_type": "code",
   "execution_count": 29,
   "metadata": {},
   "outputs": [],
   "source": [
    "for i in range(len(predict)):\n",
    "    predict[i] = round(predict[i]*4)/4"
   ]
  },
  {
   "cell_type": "code",
   "execution_count": 30,
   "metadata": {},
   "outputs": [],
   "source": [
    "for i, value in enumerate(predict):\n",
    "    dataset3.at[dataset3_withna.index[i], 'bathrooms'] = value"
   ]
  },
  {
   "cell_type": "markdown",
   "metadata": {},
   "source": [
    "**Check the distribution of the data.**"
   ]
  },
  {
   "cell_type": "code",
   "execution_count": 31,
   "metadata": {},
   "outputs": [
    {
     "data": {
      "text/plain": [
       "<matplotlib.axes._subplots.AxesSubplot at 0x1ae85660d68>"
      ]
     },
     "execution_count": 31,
     "metadata": {},
     "output_type": "execute_result"
    },
    {
     "data": {
      "image/png": "[encoded data removed]",
      "text/plain": [
       "<Figure size 432x288 with 1 Axes>"
      ]
     },
     "metadata": {},
     "output_type": "display_data"
    }
   ],
   "source": [
    "dataset3.bathrooms.plot(kind='hist')"
   ]
  },
  {
   "cell_type": "markdown",
   "metadata": {},
   "source": [
    "**Check the dataframe after filling the missing values**"
   ]
  },
  {
   "cell_type": "code",
   "execution_count": 32,
   "metadata": {
    "scrolled": true
   },
   "outputs": [
    {
     "name": "stdout",
     "output_type": "stream",
     "text": [
      "<class 'pandas.core.frame.DataFrame'>\n",
      "RangeIndex: 9967 entries, 0 to 9966\n",
      "Data columns (total 19 columns):\n",
      "id               9967 non-null int64\n",
      "date             9967 non-null object\n",
      "price            9967 non-null int64\n",
      "bedrooms         9967 non-null int64\n",
      "bathrooms        9967 non-null float64\n",
      "sqft_living      9967 non-null float64\n",
      "sqft_lot         9967 non-null int64\n",
      "floors           9967 non-null float64\n",
      "waterfront       9967 non-null int64\n",
      "view             9967 non-null int64\n",
      "condition        9967 non-null int64\n",
      "grade            9967 non-null int64\n",
      "sqft_above       9967 non-null float64\n",
      "sqft_basement    9967 non-null float64\n",
      "yr_built         9967 non-null int64\n",
      "yr_renovated     9967 non-null int64\n",
      "zipcode          9967 non-null int64\n",
      "lat              9967 non-null float64\n",
      "long             9967 non-null float64\n",
      "dtypes: float64(7), int64(11), object(1)\n",
      "memory usage: 1.4+ MB\n"
     ]
    }
   ],
   "source": [
    "dataset3.info()"
   ]
  },
  {
   "cell_type": "markdown",
   "metadata": {},
   "source": [
    "## 4. Save the data\n",
    "\n",
    "Save the data to csv file and using the default encoding"
   ]
  },
  {
   "cell_type": "code",
   "execution_count": 33,
   "metadata": {},
   "outputs": [],
   "source": [
    "dataset3.to_csv('dataset3_solution.csv',encoding='utf-8',index=False)"
   ]
  },
  {
   "cell_type": "markdown",
   "metadata": {},
   "source": [
    "## 5. References"
   ]
  },
  {
   "cell_type": "markdown",
   "metadata": {},
   "source": [
    "[pandas](http://pandas.pydata.org/pandas-docs/stable/tutorials.html)\n",
    "- - -\n",
    "[Reading Materials from moodle](https://moodle.vle.monash.edu/course/view.php?id=42906&section=10#10)\n",
    "- - -\n",
    "[numpy](https://docs.scipy.org/doc/numpy/user/quickstart.html)\n",
    "- - -\n",
    "[python doc.](https://docs.python.org/3/library/index.html)\n",
    "- - -\n",
    "[sklearn doc.](http://scikit-learn.org/stable/documentation.html)\n",
    "- - -\n",
    "[seaborn.heatmap](https://seaborn.pydata.org/generated/seaborn.heatmap.html#seaborn.heatmap)\n",
    "- - -\n",
    "[Random forest](https://en.wikipedia.org/wiki/Random_forest)\n",
    "- - -\n",
    "[Missing data](https://en.wikipedia.org/wiki/Missing_data#Techniques_of_dealing_with_missing_data)"
   ]
  }
 ],
 "metadata": {
  "kernelspec": {
   "display_name": "Python 3",
   "language": "python",
   "name": "python3"
  },
  "language_info": {
   "codemirror_mode": {
    "name": "ipython",
    "version": 3
   },
   "file_extension": ".py",
   "mimetype": "text/x-python",
   "name": "python",
   "nbconvert_exporter": "python",
   "pygments_lexer": "ipython3",
   "version": "3.6.5"
  }
 },
 "nbformat": 4,
 "nbformat_minor": 2
}
