{
 "cells": [
  {
   "cell_type": "markdown",
   "metadata": {},
   "source": [
    "# FIT5196 Task 3 in Assessment 1\n",
    "#### Student Name: Yicheng Zhang\n",
    "#### Student ID: 27699641\n",
    "\n",
    "Date: 02/04/2018\n",
    "\n",
    "Version: 1.0\n",
    "\n",
    "Environment: Python 3.6.3 and Jupyter notebook\n",
    "\n",
    "Libraries used: please include the main libraries you used in your assignment here, e.g.,:\n",
    "* pandas (for dataframe, included in Anaconda Python 3.6) \n",
    "* re (for regular expression, included in Anaconda Python 3.6) \n",
    "* html(for html escape characters parse,included in Anaconda Python 3.6)\n",
    "* json(for JSON data convert,included in Anaconda Python 3.6)\n",
    "* pprint(for better display of List,included in Anaconda Python 3.6)"
   ]
  },
  {
   "cell_type": "markdown",
   "metadata": {},
   "source": [
    "## 1.  Import libraries"
   ]
  },
  {
   "cell_type": "code",
   "execution_count": null,
   "metadata": {},
   "outputs": [],
   "source": [
    "import re\n",
    "import html\n",
    "import json\n",
    "from pprint import pprint"
   ]
  },
  {
   "cell_type": "markdown",
   "metadata": {},
   "source": [
    "## 2. Parse XML File"
   ]
  },
  {
   "cell_type": "markdown",
   "metadata": {},
   "source": [
    "[XML](https://en.wikipedia.org/wiki/XML) as the defination in wiki:\n",
    "> XML is a markup language that defines a set of rules for encoding documents in a format that is both human-readable and machine-readable\n",
    "\n",
    "There are many packages in python can be used to prase the XML data, however, This task require us to know how to use the regular experssion without using only third party xml packages to find the structure in the XML file, match the data in XML file, finally convert these data to [json](https://en.wikipedia.org/wiki/JSON)\n",
    "- - -\n",
    "Regular expression:\n",
    ">Regular expression is, in theoretical computer science and formal language theory, a sequence of characters that define a search pattern. Usually this pattern is then used by string searching algorithms for \"find\" or \"find and replace\" operations on strings\n",
    "\n",
    "- - -\n",
    "After checking the defination of XML and regular expression, we can have the first idea about this task. First, we should extract the xml file as String, then match the pattern with groups, finally store the groups as JSON format.\n",
    "\n",
    "- - -\n",
    "First, observe the XML file's structure:\n",
    "```XML\n",
    "<Terms>\n",
    "    <Term>\n",
    "        <title>XXXX</title>\n",
    "        <Description>XXXX</Description>\n",
    "        <RelatedTerms>\n",
    "            <Term>\n",
    "               <title>XXXX</title>\n",
    "               <Relationship>XXXX</Relationship>\n",
    "            </Term>\n",
    "             ...\n",
    "        </RelatedTerms>\n",
    "    </Term>\n",
    "    ...\n",
    "</Terms>\n",
    "```\n",
    "There are many elements in a tree root named `Terms`,each elements (`Term` in XML file) have serveral attributes:\n",
    "\n",
    "`title` `Description` `RelatedTerms`\n",
    "\n",
    "The RelatedTerms also have one or more elements `Term` in it. There are some data only have `title` and `description` without `RelatedTerms`\n",
    "- - -\n",
    "Then we check about the expected output:`JSON` file and its structure[3](https://docs.python.org/2/library/json.html):\n",
    "\n",
    "|**Python**|**JSON**| \n",
    "|------|------|\n",
    "|dict|object|\n",
    "|list, tuple|array|\n",
    "|str, unicode|string|\n",
    "\n",
    "After know the desired output structure, we can create our own data structure by using python, and convert it to JSON using `json` package.\n",
    "- - - \n",
    "Finally, we can use the Python using different data structure to store the data from the XML file and save the data to the JSON file.The macroscopic view of the dataset should be:\n",
    "```python\n",
    "{\"Terms\": [{Term},{Term},...]}\n",
    "```\n",
    "the data should store in a `dictionary`,with values which are elements store in the `list`. Each Element should store in `dictionary`,use the attributes as the key, and value in that attributes as the value:\n",
    "```python\n",
    "{\"Title\": 'XXXX',\"Description\": 'XXXX',\"RelatedTerms\": [{Term},{Term},...]}\n",
    "```\n",
    "similarly, the `RelatedTerms`, should be a `list` to store `dictionaries` of each `relatedterms`:\n",
    "```python\n",
    "{\"Title\": 'XXXX',\"Relationship\": 'XXXX'}\n",
    "```\n",
    "\n",
    "**After analyzing the files and data structure, we can now begin to parse the data**"
   ]
  },
  {
   "cell_type": "markdown",
   "metadata": {},
   "source": [
    "### 2.1. Load XML File"
   ]
  },
  {
   "cell_type": "markdown",
   "metadata": {},
   "source": [
    "**Load the XML file as String object which can be matched by regular expression**"
   ]
  },
  {
   "cell_type": "code",
   "execution_count": null,
   "metadata": {
    "scrolled": true
   },
   "outputs": [],
   "source": [
    "with open('australian-sport-thesaurus-student.xml',encoding='utf-8') as xml_object: #load file as object\n",
    "    lines = xml_object.readlines() #read every lines in file\n",
    "xml_string = '' # initial string object\n",
    "for line in lines: \n",
    "    xml_string += line.lstrip()  #remove the left indent in xml file\n",
    "xml_string #check the string obejct"
   ]
  },
  {
   "cell_type": "markdown",
   "metadata": {},
   "source": [
    "### 2.2. Check XML Data, & Cleaning"
   ]
  },
  {
   "cell_type": "markdown",
   "metadata": {},
   "source": [
    "Because the XML file using the markdown language, when it was converted to String, There are some special escape character[4](https://www.w3schools.com/html/html_entities.asp)\n",
    "\n",
    "|**XML**|**String**| \n",
    "|------|------|\n",
    "|&amp|'&'|\n",
    "|&#13|Retrun '\\r'|\n",
    "|&lt|'<'|\n",
    "|&gt|'>'|\n",
    "\n",
    "This type of escape character should be convert to the normal string, to finish this job, we choose a packages named `html` to convert the escape character to normal string."
   ]
  },
  {
   "cell_type": "markdown",
   "metadata": {},
   "source": [
    "**Check if there are escape character in our string**"
   ]
  },
  {
   "cell_type": "code",
   "execution_count": null,
   "metadata": {
    "scrolled": true
   },
   "outputs": [],
   "source": [
    "print('&amp' in xml_string)\n",
    "print('&#13' in xml_string)\n",
    "print('&lt' in xml_string)\n",
    "print('&gt' in xml_string) #check escape charater in string"
   ]
  },
  {
   "cell_type": "markdown",
   "metadata": {},
   "source": [
    "**Remove the unnecessary Line Feed character**"
   ]
  },
  {
   "cell_type": "code",
   "execution_count": null,
   "metadata": {},
   "outputs": [],
   "source": [
    "xml_string = xml_string.replace('\\n','') \n",
    "xml_string[0:500] "
   ]
  },
  {
   "cell_type": "markdown",
   "metadata": {},
   "source": [
    "**Using the method named `unescape()` in `html` package to convert escape character to normal string**"
   ]
  },
  {
   "cell_type": "code",
   "execution_count": null,
   "metadata": {},
   "outputs": [],
   "source": [
    "xml_string = html.unescape(xml_string)\n",
    "print('&amp' in xml_string)\n",
    "print('#13' in xml_string)\n",
    "print('&lt' in xml_string)\n",
    "print('&gt' in xml_string)"
   ]
  },
  {
   "cell_type": "markdown",
   "metadata": {},
   "source": [
    "**Check the string after processing**"
   ]
  },
  {
   "cell_type": "code",
   "execution_count": null,
   "metadata": {
    "scrolled": true
   },
   "outputs": [],
   "source": [
    "xml_string"
   ]
  },
  {
   "cell_type": "markdown",
   "metadata": {},
   "source": [
    "It can be found there are still some character need to be handle,One critical sample is:\n",
    "\n",
    "`\\r` in a String is used for `Carriage Return`\n",
    "\n",
    "When we store the data, this separator is unnecessary, We can replace these character with one space for string divid purpose.(It also can be replace with empty)\n",
    "\n",
    "**Check the `Carriage Return` character in the String**"
   ]
  },
  {
   "cell_type": "code",
   "execution_count": null,
   "metadata": {
    "scrolled": true
   },
   "outputs": [],
   "source": [
    "print('\\r' in xml_string)"
   ]
  },
  {
   "cell_type": "markdown",
   "metadata": {},
   "source": [
    "`\\t` in a String is used for `Move to next Tab`\n",
    "**Check the `Table` character in the String**"
   ]
  },
  {
   "cell_type": "code",
   "execution_count": null,
   "metadata": {},
   "outputs": [],
   "source": [
    "print('\\t' in xml_string)"
   ]
  },
  {
   "cell_type": "markdown",
   "metadata": {},
   "source": [
    "**replace `Carriage Return` character with one space**"
   ]
  },
  {
   "cell_type": "code",
   "execution_count": null,
   "metadata": {},
   "outputs": [],
   "source": [
    "xml_string = xml_string.replace('\\r',' ')\n",
    "print('\\r' in xml_string)"
   ]
  },
  {
   "cell_type": "markdown",
   "metadata": {},
   "source": [
    "**replace `Table` character with one space**"
   ]
  },
  {
   "cell_type": "code",
   "execution_count": null,
   "metadata": {},
   "outputs": [],
   "source": [
    "xml_string = xml_string.replace('\\t',' ')\n",
    "print('\\t' in xml_string)"
   ]
  },
  {
   "cell_type": "markdown",
   "metadata": {},
   "source": [
    "**Check the string after processing**"
   ]
  },
  {
   "cell_type": "code",
   "execution_count": null,
   "metadata": {},
   "outputs": [],
   "source": [
    "xml_string"
   ]
  },
  {
   "cell_type": "markdown",
   "metadata": {},
   "source": [
    "### 2.3. Process the data"
   ]
  },
  {
   "cell_type": "markdown",
   "metadata": {},
   "source": [
    "After cleaning the data, we could try to use the regular expression to match the data, divide to different groups.\n",
    "___\n",
    "Refer to the XML file's structure:\n",
    "```XML\n",
    "<Terms>\n",
    "    <Term>\n",
    "        <title>XXXX</title>\n",
    "        <Description>XXXX</Description>\n",
    "        <RelatedTerms>\n",
    "            <Term>\n",
    "               <title>XXXX</title>\n",
    "               <Relationship>XXXX</Relationship>\n",
    "            </Term>\n",
    "             ...\n",
    "        </RelatedTerms>\n",
    "    </Term>\n",
    "    ...\n",
    "</Terms>\n",
    "```\n",
    "First, we need all the content between:\n",
    "```XML\n",
    "<Term>\n",
    "    content\n",
    "</Term>\n",
    "    ...\n",
    "```\n",
    "Then, if there are relatedterms in this data, we need split them and store them into a list:\n",
    "```XML\n",
    "\n",
    "<RelatedTerms>\n",
    "    content1\n",
    "    content2\n",
    "    ...\n",
    "</RelatedTerms>\n",
    "```\n",
    "___\n",
    "Using the regular expression `findall(r,String)` method, can divide every matches in `tuple` store in a `list`\n",
    "\n",
    "One of benfit for the tuples in list is that this data can be easily convert to dictionaries using `dict(list[tuple,tuple...])`"
   ]
  },
  {
   "cell_type": "markdown",
   "metadata": {},
   "source": [
    "**Try to divide data into groups **"
   ]
  },
  {
   "cell_type": "code",
   "execution_count": null,
   "metadata": {},
   "outputs": [],
   "source": [
    "groups = re.findall('<Term>(.*?)(?:<RelatedTerms>(.*?)</RelatedTerms>)?</Term>', xml_string) #match Content in <Term> and <RelatedTerms>\n",
    "groups[0:5]"
   ]
  },
  {
   "cell_type": "markdown",
   "metadata": {},
   "source": [
    "** Check the content for each group Using the 5th data as a sample**"
   ]
  },
  {
   "cell_type": "code",
   "execution_count": null,
   "metadata": {},
   "outputs": [],
   "source": [
    "print(groups[4],'\\n')\n",
    "print(groups[4][0],'\\n')\n",
    "print(groups[4][1],'\\n')"
   ]
  },
  {
   "cell_type": "markdown",
   "metadata": {},
   "source": [
    "Each data(`Term`) store in one tuple, `tuple[0]` is the `Term`'s `Title`&`Description`, `tuple[1]` is the `RelatedTerms`\n",
    "\n",
    "**Try to match the relatedterms in the above sample**"
   ]
  },
  {
   "cell_type": "code",
   "execution_count": null,
   "metadata": {},
   "outputs": [],
   "source": [
    "relatedmatch = re.findall('<Term><(.*?)>(.*?)</.*?><(.*?)>(.*?)</.*?>?</Term>',groups[4][1])\n",
    "pprint(relatedmatch)\n",
    "print('\\n')\n",
    "print(relatedmatch[0][0:2],'\\n')\n",
    "print(relatedmatch[0][2:4],'\\n')"
   ]
  },
  {
   "cell_type": "markdown",
   "metadata": {},
   "source": [
    "Now we get the groups in `Tuple` structure store in a `List` as desired, For the `RelatedTerms`, We should divide the RelatedTerms and store them to `dictionaries`, finally store `dictionaries` to `List`\n",
    "___\n",
    "From the above results, If we want to store each RelatedTerm to a dictionary,For the data like:\n",
    "```python\n",
    "('Title', '1 Kilometre TT', 'Relationship', 'Used For')\n",
    "```\n",
    "we should first store them like:\n",
    "```python\n",
    "[('Title', '1 Kilometre TT'),( 'Relationship', 'Used For')]\n",
    "```\n",
    "Then convert it to dictionary."
   ]
  },
  {
   "cell_type": "markdown",
   "metadata": {},
   "source": [
    "**Try to convert the data**"
   ]
  },
  {
   "cell_type": "code",
   "execution_count": null,
   "metadata": {},
   "outputs": [],
   "source": [
    "root = [] #create list store dictionaries\n",
    "elements = re.findall('<Term>(.*?)(?:<RelatedTerms>(.*?)</RelatedTerms>)?</Term>', xml_string) #match Content in <Term> and <RelatedTerms>\n",
    "for element in elements:\n",
    "    term = re.findall('<(.*?)>(.*?)</.*?>',element[0]) #match Content in <Term></Term>\n",
    "    termdic = dict(term)\n",
    "    if element[1] is not '':   \n",
    "        relatedterms = re.findall('<Term><(.*?)>(.*?)</.*?><(.*?)>(.*?)</.*?>?</Term>',element[1])#match Terms in <RelatedTerms>\n",
    "        relatedresult = []\n",
    "        for related in relatedterms:\n",
    "            tuple1 = related[0:2] \n",
    "            tuple2 = related[2:4] #split each Terms in relatedTerms to tuples\n",
    "            templist = [tuple1,tuple2]\n",
    "            tempdict = dict(templist) #create dictionaries store relatedTerms\n",
    "            relatedresult.append(tempdict)\n",
    "        termdic['RelatedTerms'] = relatedresult\n",
    "    root.append(termdic)"
   ]
  },
  {
   "cell_type": "markdown",
   "metadata": {},
   "source": [
    "**Check the results**"
   ]
  },
  {
   "cell_type": "code",
   "execution_count": null,
   "metadata": {},
   "outputs": [],
   "source": [
    "root[0:100]"
   ]
  },
  {
   "cell_type": "markdown",
   "metadata": {},
   "source": [
    "**Check the numbers of records**"
   ]
  },
  {
   "cell_type": "code",
   "execution_count": null,
   "metadata": {},
   "outputs": [],
   "source": [
    "len(root)"
   ]
  },
  {
   "cell_type": "markdown",
   "metadata": {},
   "source": [
    "Now, we have the `List` store the `dictionaries`,For checking purpose, packages such as `etree` in `lxml` can be used to find out the numbers of records, compare it to our result, ensure it is correct."
   ]
  },
  {
   "cell_type": "markdown",
   "metadata": {},
   "source": [
    "**Create a dictionary to store the list**"
   ]
  },
  {
   "cell_type": "code",
   "execution_count": null,
   "metadata": {},
   "outputs": [],
   "source": [
    "thesaurus = {}\n",
    "thesaurus[\"thesaurus\"] = root # create dictionary as data structure can be converted to JSON file"
   ]
  },
  {
   "cell_type": "code",
   "execution_count": null,
   "metadata": {
    "scrolled": true
   },
   "outputs": [],
   "source": [
    "thesaurus"
   ]
  },
  {
   "cell_type": "markdown",
   "metadata": {},
   "source": [
    "### 2.4. Save the data"
   ]
  },
  {
   "cell_type": "markdown",
   "metadata": {},
   "source": [
    "From the previous analyzing, we know the `JSON` and `Python` data structure can be converted using a package named `json`, Now we can use the method named `dumps()` to dump our data to `JSON` data"
   ]
  },
  {
   "cell_type": "code",
   "execution_count": null,
   "metadata": {},
   "outputs": [],
   "source": [
    "jsondata = json.dumps(thesaurus)\n",
    "jsondata"
   ]
  },
  {
   "cell_type": "markdown",
   "metadata": {},
   "source": [
    "There is a slightly different between our data and the json data, which is the order in the dictionaries, check about the [document](https://docs.python.org/3.6/library/json.html) a variable named `sort_keys` can keep the original order for the data. \n",
    "\n",
    "**Try to set the `sort_keys` as `True` and check the results**"
   ]
  },
  {
   "cell_type": "code",
   "execution_count": null,
   "metadata": {},
   "outputs": [],
   "source": [
    "jsondata_ordered = json.dumps(thesaurus, sort_keys=True)\n",
    "jsondata_ordered"
   ]
  },
  {
   "cell_type": "markdown",
   "metadata": {},
   "source": [
    "** After check the results, we can store the results to the `json` file, using the `dump()` directly store the `JSON` data to output file.**"
   ]
  },
  {
   "cell_type": "code",
   "execution_count": null,
   "metadata": {},
   "outputs": [],
   "source": [
    "with open('sport.dat', 'w') as outfile:\n",
    "    json.dump(thesaurus, outfile, sort_keys = True)"
   ]
  },
  {
   "cell_type": "markdown",
   "metadata": {},
   "source": [
    "## 3. Summary"
   ]
  },
  {
   "cell_type": "markdown",
   "metadata": {},
   "source": [
    "Based on the above script and process, some conclusions can be drawn:\n",
    "* XML file sometimes is a well-structured data, but it may contain data not in well-structure. Using thrid party packages can reduce our work to parse the XML file, but we should also know how to use the Regular expression to get the data from the XML file.\n",
    "- - -\n",
    "* One of the disadvantage of loading all the file to the string is memory usage, it can cause some problems when using low capacity memory computer.\n",
    "- - -\n",
    "* The core concept of this task is to find the data structure for XML,Python,Json file,and convert it."
   ]
  },
  {
   "cell_type": "markdown",
   "metadata": {},
   "source": [
    "## 4. References"
   ]
  },
  {
   "cell_type": "markdown",
   "metadata": {},
   "source": [
    "[python data structures](https://docs.python.org/3.6/tutorial/datastructures.html)\n",
    "- - -\n",
    "[tutorial on moodle](https://moodle.vle.monash.edu/course/view.php?id=42906&section=8#8)\n",
    "- - -\n",
    "[html package](https://docs.python.org/3.6/library/html.html?highlight=html#module-html)\n",
    "- - -\n",
    "[XML](https://en.wikipedia.org/wiki/XML)\n",
    "- - -\n",
    "[json](https://en.wikipedia.org/wiki/JSON)\n",
    "- - -\n",
    "[json package](https://docs.python.org/2/library/json.html)"
   ]
  }
 ],
 "metadata": {
  "kernelspec": {
   "display_name": "Python 3",
   "language": "python",
   "name": "python3"
  },
  "language_info": {
   "codemirror_mode": {
    "name": "ipython",
    "version": 3
   },
   "file_extension": ".py",
   "mimetype": "text/x-python",
   "name": "python",
   "nbconvert_exporter": "python",
   "pygments_lexer": "ipython3",
   "version": "3.6.5"
  }
 },
 "nbformat": 4,
 "nbformat_minor": 2
}
